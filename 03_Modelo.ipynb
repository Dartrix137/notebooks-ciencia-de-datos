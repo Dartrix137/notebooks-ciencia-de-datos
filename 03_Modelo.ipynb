{
 "cells": [
  {
   "cell_type": "code",
   "execution_count": 1,
   "id": "9aa1554e",
   "metadata": {},
   "outputs": [],
   "source": [
    "#Importación de librerías\n",
    "import os\n",
    "import numpy as np\n",
    "import matplotlib.pyplot as plt\n",
    "import pandas as pd\n",
    "from sklearn.model_selection import train_test_split\n",
    "from sklearn.ensemble import RandomForestClassifier, GradientBoostingClassifier\n",
    "from sklearn.model_selection import RandomizedSearchCV, GridSearchCV\n",
    "from sklearn.metrics import classification_report, confusion_matrix\n",
    "from sklearn.metrics import mean_squared_error\n",
    "import random\n",
    "pd.set_option('display.max_columns', 90)"
   ]
  },
  {
   "cell_type": "code",
   "execution_count": 2,
   "id": "ee5841ab",
   "metadata": {},
   "outputs": [],
   "source": [
    "# CWD = Current Working Directory\n",
    "cwd = os.getcwd()\n",
    "raw_dir = cwd + \"/../data/raw/\"\n",
    "processed_dir = cwd + \"/../data/processed/\"\n",
    "final_dir = cwd + \"/../data/final/\""
   ]
  },
  {
   "cell_type": "code",
   "execution_count": 3,
   "id": "8fdf451a",
   "metadata": {},
   "outputs": [],
   "source": [
    "#Se crea cada dataframe para cada variable objetivo\n",
    "dfmatematicas=pd.read_csv(processed_dir + 'datos_listos_matematicas.csv')\n",
    "dfingles=pd.read_csv(processed_dir + 'datos_listos_ingles.csv')\n",
    "dfcnaturales=pd.read_csv(processed_dir + 'datos_listos_c_naturales.csv')\n",
    "dflcritica=pd.read_csv(processed_dir + 'datos_listos_l_critica.csv')\n",
    "dfsocialesciudadanas=pd.read_csv(processed_dir + 'datos_listos_sociales_ciudadanas.csv')\n",
    "dfglobal=pd.read_csv(processed_dir + 'datos_listos_global.csv')"
   ]
  },
  {
   "cell_type": "markdown",
   "id": "2a325657",
   "metadata": {},
   "source": [
    "# Diseño del Modelo"
   ]
  },
  {
   "cell_type": "markdown",
   "id": "64ed4aa7",
   "metadata": {},
   "source": [
    "## Categorización de puntajes\n",
    "Los puntajes se categorizarán en 2 grupos, tendencia baja y tendencia alta, esto para ayudar a la precisión en las predicciones del modelo, para la variable puntaje global que va desde 0 hasta 500, la primera categoría va desde 0 hasta 300 puntos, y la segunda de 301 hasta los 500 puntos, esto ya que por arriba de los 300 puntos es donde hay más oportunidades para obtener becas o mejor acceso para universidades que exigen un buen puntaje en la prueba.\n",
    "\n",
    "Para las variables de las temáticas que evalua el examen la división es la siguiente, cada temática se califica de 0 a 100 puntos, entonces para la categoría de tedencia baja va desde los 0 hasta los 55 puntos y para la categoría de tendencia alta va desde los 56 hasta los 100 puntos.\n",
    "\n",
    "La categoría de tendencia baja se identifica por el número 1 y la categoría de tendencia alta se identifica por el número 2."
   ]
  },
  {
   "cell_type": "code",
   "execution_count": 4,
   "id": "a0d79eb8",
   "metadata": {},
   "outputs": [],
   "source": [
    "#1=Tendencia Baja, 2=Tendencia alta puntaje global\n",
    "dfglobal['PUNT_GLOBAL'] = np.where(dfglobal['PUNT_GLOBAL'].between(0,300), 1, dfglobal['PUNT_GLOBAL'])\n",
    "dfglobal['PUNT_GLOBAL'] = np.where(dfglobal['PUNT_GLOBAL'].between(301, 500), 2, dfglobal['PUNT_GLOBAL'])"
   ]
  },
  {
   "cell_type": "code",
   "execution_count": 5,
   "id": "484b3e1b",
   "metadata": {},
   "outputs": [],
   "source": [
    "#1=Tendencia Baja, 2=Tendencia alta puntaje de matemáticas\n",
    "dfmatematicas['PUNT_MATEMATICAS'] = np.where(dfmatematicas['PUNT_MATEMATICAS'].between(0,55), 1, dfmatematicas['PUNT_MATEMATICAS'])\n",
    "dfmatematicas['PUNT_MATEMATICAS'] = np.where(dfmatematicas['PUNT_MATEMATICAS'].between(56, 100), 2, dfmatematicas['PUNT_MATEMATICAS'])"
   ]
  },
  {
   "cell_type": "code",
   "execution_count": 6,
   "id": "3e57518f",
   "metadata": {},
   "outputs": [],
   "source": [
    "#1=Tendencia Baja, 2=Tendencia alta puntaje de inglés\n",
    "dfingles['PUNT_INGLES'] = np.where(dfingles['PUNT_INGLES'].between(0,55), 1, dfingles['PUNT_INGLES'])\n",
    "dfingles['PUNT_INGLES'] = np.where(dfingles['PUNT_INGLES'].between(56, 100), 2, dfingles['PUNT_INGLES'])"
   ]
  },
  {
   "cell_type": "code",
   "execution_count": 7,
   "id": "2783f73e",
   "metadata": {},
   "outputs": [],
   "source": [
    "#1=Tendencia Baja, 2=Tendencia alta puntaje de ciencias naturales\n",
    "dfcnaturales['PUNT_C_NATURALES'] = np.where(dfcnaturales['PUNT_C_NATURALES'].between(0,55), 1, dfcnaturales['PUNT_C_NATURALES'])\n",
    "dfcnaturales['PUNT_C_NATURALES'] = np.where(dfcnaturales['PUNT_C_NATURALES'].between(56, 100), 2, dfcnaturales['PUNT_C_NATURALES'])"
   ]
  },
  {
   "cell_type": "code",
   "execution_count": 8,
   "id": "668c0f9a",
   "metadata": {},
   "outputs": [],
   "source": [
    "#1=Tendencia Baja, 2=Tendencia alta puntaje de lectura crítica\n",
    "dflcritica['PUNT_LECTURA_CRITICA'] = np.where(dflcritica['PUNT_LECTURA_CRITICA'].between(0,55), 1, dflcritica['PUNT_LECTURA_CRITICA'])\n",
    "dflcritica['PUNT_LECTURA_CRITICA'] = np.where(dflcritica['PUNT_LECTURA_CRITICA'].between(56, 100), 2, dflcritica['PUNT_LECTURA_CRITICA'])"
   ]
  },
  {
   "cell_type": "code",
   "execution_count": 9,
   "id": "8215cb71",
   "metadata": {},
   "outputs": [],
   "source": [
    "#1=Tendencia Baja, 2=Tendencia alta puntaje de sociales y ciudadanas\n",
    "dfsocialesciudadanas['PUNT_SOCIALES_CIUDADANAS'] = np.where(dfsocialesciudadanas['PUNT_SOCIALES_CIUDADANAS'].between(0,55), 1, dfsocialesciudadanas['PUNT_SOCIALES_CIUDADANAS'])\n",
    "dfsocialesciudadanas['PUNT_SOCIALES_CIUDADANAS'] = np.where(dfsocialesciudadanas['PUNT_SOCIALES_CIUDADANAS'].between(56, 100), 2, dfsocialesciudadanas['PUNT_SOCIALES_CIUDADANAS'])"
   ]
  },
  {
   "cell_type": "markdown",
   "id": "c641cea0",
   "metadata": {},
   "source": [
    "## Distribución de cada categoría de todos los datasets"
   ]
  },
  {
   "cell_type": "code",
   "execution_count": 10,
   "id": "babdb7a4",
   "metadata": {},
   "outputs": [
    {
     "name": "stdout",
     "output_type": "stream",
     "text": [
      "Global: 1    101658\n",
      "2     24615\n",
      "Name: PUNT_GLOBAL, dtype: int64\n",
      "Matemáticas: 1    80028\n",
      "2    46245\n",
      "Name: PUNT_MATEMATICAS, dtype: int64\n",
      "Inglés: 1.0    85912\n",
      "2.0    40361\n",
      "Name: PUNT_INGLES, dtype: int64\n",
      "Naturales:  1    88746\n",
      "2    37527\n",
      "Name: PUNT_C_NATURALES, dtype: int64\n",
      "L critica:  1    69439\n",
      "2    56834\n",
      "Name: PUNT_LECTURA_CRITICA, dtype: int64\n",
      "Sociales:  1    87641\n",
      "2    38632\n",
      "Name: PUNT_SOCIALES_CIUDADANAS, dtype: int64\n"
     ]
    }
   ],
   "source": [
    "print(\"Global:\", dfglobal['PUNT_GLOBAL'].value_counts())\n",
    "print(\"Matemáticas:\", dfmatematicas['PUNT_MATEMATICAS'].value_counts())\n",
    "print(\"Inglés:\", dfingles['PUNT_INGLES'].value_counts())\n",
    "print(\"Naturales: \", dfcnaturales['PUNT_C_NATURALES'].value_counts())\n",
    "print(\"L critica: \",dflcritica['PUNT_LECTURA_CRITICA'].value_counts())\n",
    "print(\"Sociales: \", dfsocialesciudadanas['PUNT_SOCIALES_CIUDADANAS'].value_counts())"
   ]
  },
  {
   "cell_type": "markdown",
   "id": "5a87ddd3",
   "metadata": {},
   "source": [
    "## Pruebas para encontrar los mejores hiperparámetros"
   ]
  },
  {
   "cell_type": "code",
   "execution_count": 11,
   "id": "75aa4430",
   "metadata": {},
   "outputs": [],
   "source": [
    "#Valores de prueba para encontrar los mejores hiperparámetros\n",
    "X_pg = dfglobal.drop(['PUNT_GLOBAL'],axis=1)\n",
    "y_pg = dfglobal['PUNT_GLOBAL']\n",
    "X_train_pg, X_test_pg, y_train_pg, y_test_pg = train_test_split(X_pg, y_pg, test_size = 0.20, random_state=3)"
   ]
  },
  {
   "cell_type": "code",
   "execution_count": 12,
   "id": "18df80ee",
   "metadata": {},
   "outputs": [
    {
     "name": "stdout",
     "output_type": "stream",
     "text": [
      "Best hyperparameters: {'n_estimators': 500, 'max_depth': 15}\n"
     ]
    }
   ],
   "source": [
    "#Test random forest\n",
    "param_dist = {'n_estimators': [100, 200, 300, 400, 500],\n",
    "              'max_depth': [3 , 5, 10, 15, 20]}\n",
    "\n",
    "# Create a random forest classifier\n",
    "rf = RandomForestClassifier()\n",
    "\n",
    "# Use random search to find the best hyperparameters\n",
    "rand_search = RandomizedSearchCV(rf, \n",
    "                                 param_distributions = param_dist, \n",
    "                                 n_iter=5, \n",
    "                                 cv=5)\n",
    "\n",
    "# Fit the random search object to the data\n",
    "rand_search.fit(X_train_pg, y_train_pg)\n",
    "# Create a variable for the best model\n",
    "best_rf = rand_search.best_estimator_\n",
    "\n",
    "# Print the best hyperparameters\n",
    "print('Best hyperparameters:',  rand_search.best_params_)"
   ]
  },
  {
   "cell_type": "code",
   "execution_count": 14,
   "id": "f00ffbc7",
   "metadata": {},
   "outputs": [
    {
     "name": "stdout",
     "output_type": "stream",
     "text": [
      "Best hyperparameters: {'n_estimators': 500, 'max_depth': 15}\n"
     ]
    }
   ],
   "source": [
    "#Test gradient boosting\n",
    "param_dist = {'n_estimators': [100, 200, 300, 400, 500],\n",
    "              'max_depth': [3 , 5, 10, 15, 20]}\n",
    "\n",
    "# Create a random forest classifier\n",
    "gb = GradientBoostingClassifier()\n",
    "\n",
    "# Use random search to find the best hyperparameters\n",
    "rand_search = RandomizedSearchCV(rf, \n",
    "                                 param_distributions = param_dist, \n",
    "                                 n_iter=5, \n",
    "                                 cv=5)\n",
    "\n",
    "# Fit the random search object to the data\n",
    "rand_search.fit(X_train_pg, y_train_pg)\n",
    "# Create a variable for the best model\n",
    "best_rf = rand_search.best_estimator_\n",
    "\n",
    "# Print the best hyperparameters\n",
    "print('Best hyperparameters:',  rand_search.best_params_)"
   ]
  },
  {
   "cell_type": "markdown",
   "id": "f0a8ace0",
   "metadata": {},
   "source": [
    "# Entrenamiento del Modelo"
   ]
  },
  {
   "cell_type": "markdown",
   "id": "31796b21",
   "metadata": {},
   "source": [
    "Se entrenará 1 modelo para cada puntaje utilizando los algoritmos de RandomForestClassifier y GradientBoostingClassifier para encontrar el que mejor de resultados"
   ]
  },
  {
   "cell_type": "code",
   "execution_count": 11,
   "id": "de0513f6",
   "metadata": {},
   "outputs": [],
   "source": [
    "random_pg = RandomForestClassifier(max_depth=15, n_estimators=500, criterion='log_loss')\n",
    "gb_model_pg = GradientBoostingClassifier(n_estimators=500, learning_rate=0.1, max_depth=15, random_state=5)\n",
    "random_pm = RandomForestClassifier(max_depth=15, n_estimators=500, criterion='log_loss')\n",
    "gb_model_pm = GradientBoostingClassifier(n_estimators=500, learning_rate=0.1, max_depth=15, random_state=10)\n",
    "random_pi = RandomForestClassifier(max_depth=15, n_estimators=500, criterion='log_loss')\n",
    "gb_model_pi = GradientBoostingClassifier(n_estimators=500, learning_rate=0.1, max_depth=15, random_state=15)\n",
    "random_pcn = RandomForestClassifier(max_depth=15, n_estimators=500, criterion='log_loss')\n",
    "gb_model_pcn = GradientBoostingClassifier(n_estimators=500, learning_rate=0.1, max_depth=15, random_state=20)\n",
    "random_plc = RandomForestClassifier(max_depth=15, n_estimators=500, criterion='log_loss')\n",
    "gb_model_plc = GradientBoostingClassifier(n_estimators=500, learning_rate=0.1, max_depth=15, random_state=25)\n",
    "random_psc = RandomForestClassifier(max_depth=15, n_estimators=500, criterion='log_loss')\n",
    "gb_model_psc = GradientBoostingClassifier(n_estimators=500, learning_rate=0.1, max_depth=15, random_state=30)"
   ]
  },
  {
   "cell_type": "code",
   "execution_count": 64,
   "id": "3c8e729c",
   "metadata": {},
   "outputs": [
    {
     "data": {
      "text/html": [
       "<style>#sk-container-id-12 {color: black;background-color: white;}#sk-container-id-12 pre{padding: 0;}#sk-container-id-12 div.sk-toggleable {background-color: white;}#sk-container-id-12 label.sk-toggleable__label {cursor: pointer;display: block;width: 100%;margin-bottom: 0;padding: 0.3em;box-sizing: border-box;text-align: center;}#sk-container-id-12 label.sk-toggleable__label-arrow:before {content: \"▸\";float: left;margin-right: 0.25em;color: #696969;}#sk-container-id-12 label.sk-toggleable__label-arrow:hover:before {color: black;}#sk-container-id-12 div.sk-estimator:hover label.sk-toggleable__label-arrow:before {color: black;}#sk-container-id-12 div.sk-toggleable__content {max-height: 0;max-width: 0;overflow: hidden;text-align: left;background-color: #f0f8ff;}#sk-container-id-12 div.sk-toggleable__content pre {margin: 0.2em;color: black;border-radius: 0.25em;background-color: #f0f8ff;}#sk-container-id-12 input.sk-toggleable__control:checked~div.sk-toggleable__content {max-height: 200px;max-width: 100%;overflow: auto;}#sk-container-id-12 input.sk-toggleable__control:checked~label.sk-toggleable__label-arrow:before {content: \"▾\";}#sk-container-id-12 div.sk-estimator input.sk-toggleable__control:checked~label.sk-toggleable__label {background-color: #d4ebff;}#sk-container-id-12 div.sk-label input.sk-toggleable__control:checked~label.sk-toggleable__label {background-color: #d4ebff;}#sk-container-id-12 input.sk-hidden--visually {border: 0;clip: rect(1px 1px 1px 1px);clip: rect(1px, 1px, 1px, 1px);height: 1px;margin: -1px;overflow: hidden;padding: 0;position: absolute;width: 1px;}#sk-container-id-12 div.sk-estimator {font-family: monospace;background-color: #f0f8ff;border: 1px dotted black;border-radius: 0.25em;box-sizing: border-box;margin-bottom: 0.5em;}#sk-container-id-12 div.sk-estimator:hover {background-color: #d4ebff;}#sk-container-id-12 div.sk-parallel-item::after {content: \"\";width: 100%;border-bottom: 1px solid gray;flex-grow: 1;}#sk-container-id-12 div.sk-label:hover label.sk-toggleable__label {background-color: #d4ebff;}#sk-container-id-12 div.sk-serial::before {content: \"\";position: absolute;border-left: 1px solid gray;box-sizing: border-box;top: 0;bottom: 0;left: 50%;z-index: 0;}#sk-container-id-12 div.sk-serial {display: flex;flex-direction: column;align-items: center;background-color: white;padding-right: 0.2em;padding-left: 0.2em;position: relative;}#sk-container-id-12 div.sk-item {position: relative;z-index: 1;}#sk-container-id-12 div.sk-parallel {display: flex;align-items: stretch;justify-content: center;background-color: white;position: relative;}#sk-container-id-12 div.sk-item::before, #sk-container-id-12 div.sk-parallel-item::before {content: \"\";position: absolute;border-left: 1px solid gray;box-sizing: border-box;top: 0;bottom: 0;left: 50%;z-index: -1;}#sk-container-id-12 div.sk-parallel-item {display: flex;flex-direction: column;z-index: 1;position: relative;background-color: white;}#sk-container-id-12 div.sk-parallel-item:first-child::after {align-self: flex-end;width: 50%;}#sk-container-id-12 div.sk-parallel-item:last-child::after {align-self: flex-start;width: 50%;}#sk-container-id-12 div.sk-parallel-item:only-child::after {width: 0;}#sk-container-id-12 div.sk-dashed-wrapped {border: 1px dashed gray;margin: 0 0.4em 0.5em 0.4em;box-sizing: border-box;padding-bottom: 0.4em;background-color: white;}#sk-container-id-12 div.sk-label label {font-family: monospace;font-weight: bold;display: inline-block;line-height: 1.2em;}#sk-container-id-12 div.sk-label-container {text-align: center;}#sk-container-id-12 div.sk-container {/* jupyter's `normalize.less` sets `[hidden] { display: none; }` but bootstrap.min.css set `[hidden] { display: none !important; }` so we also need the `!important` here to be able to override the default hidden behavior on the sphinx rendered scikit-learn.org. See: https://github.com/scikit-learn/scikit-learn/issues/21755 */display: inline-block !important;position: relative;}#sk-container-id-12 div.sk-text-repr-fallback {display: none;}</style><div id=\"sk-container-id-12\" class=\"sk-top-container\"><div class=\"sk-text-repr-fallback\"><pre>RandomForestClassifier(criterion=&#x27;log_loss&#x27;, max_depth=5, n_estimators=500)</pre><b>In a Jupyter environment, please rerun this cell to show the HTML representation or trust the notebook. <br />On GitHub, the HTML representation is unable to render, please try loading this page with nbviewer.org.</b></div><div class=\"sk-container\" hidden><div class=\"sk-item\"><div class=\"sk-estimator sk-toggleable\"><input class=\"sk-toggleable__control sk-hidden--visually\" id=\"sk-estimator-id-12\" type=\"checkbox\" checked><label for=\"sk-estimator-id-12\" class=\"sk-toggleable__label sk-toggleable__label-arrow\">RandomForestClassifier</label><div class=\"sk-toggleable__content\"><pre>RandomForestClassifier(criterion=&#x27;log_loss&#x27;, max_depth=5, n_estimators=500)</pre></div></div></div></div></div>"
      ],
      "text/plain": [
       "RandomForestClassifier(criterion='log_loss', max_depth=5, n_estimators=500)"
      ]
     },
     "execution_count": 64,
     "metadata": {},
     "output_type": "execute_result"
    }
   ],
   "source": [
    "#Modelo RandomForestClassifier de puntaje global\n",
    "random_pg.fit(X_train_pg,y_train_pg)"
   ]
  },
  {
   "cell_type": "code",
   "execution_count": 65,
   "id": "2e134338",
   "metadata": {},
   "outputs": [],
   "source": [
    "#Modelo RandomForestClassifier de puntaje global\n",
    "y_predict_rf_pg = random_pg.predict(X_test_pg)"
   ]
  },
  {
   "cell_type": "code",
   "execution_count": 51,
   "id": "70a9c0d2",
   "metadata": {},
   "outputs": [
    {
     "data": {
      "text/html": [
       "<style>#sk-container-id-11 {color: black;background-color: white;}#sk-container-id-11 pre{padding: 0;}#sk-container-id-11 div.sk-toggleable {background-color: white;}#sk-container-id-11 label.sk-toggleable__label {cursor: pointer;display: block;width: 100%;margin-bottom: 0;padding: 0.3em;box-sizing: border-box;text-align: center;}#sk-container-id-11 label.sk-toggleable__label-arrow:before {content: \"▸\";float: left;margin-right: 0.25em;color: #696969;}#sk-container-id-11 label.sk-toggleable__label-arrow:hover:before {color: black;}#sk-container-id-11 div.sk-estimator:hover label.sk-toggleable__label-arrow:before {color: black;}#sk-container-id-11 div.sk-toggleable__content {max-height: 0;max-width: 0;overflow: hidden;text-align: left;background-color: #f0f8ff;}#sk-container-id-11 div.sk-toggleable__content pre {margin: 0.2em;color: black;border-radius: 0.25em;background-color: #f0f8ff;}#sk-container-id-11 input.sk-toggleable__control:checked~div.sk-toggleable__content {max-height: 200px;max-width: 100%;overflow: auto;}#sk-container-id-11 input.sk-toggleable__control:checked~label.sk-toggleable__label-arrow:before {content: \"▾\";}#sk-container-id-11 div.sk-estimator input.sk-toggleable__control:checked~label.sk-toggleable__label {background-color: #d4ebff;}#sk-container-id-11 div.sk-label input.sk-toggleable__control:checked~label.sk-toggleable__label {background-color: #d4ebff;}#sk-container-id-11 input.sk-hidden--visually {border: 0;clip: rect(1px 1px 1px 1px);clip: rect(1px, 1px, 1px, 1px);height: 1px;margin: -1px;overflow: hidden;padding: 0;position: absolute;width: 1px;}#sk-container-id-11 div.sk-estimator {font-family: monospace;background-color: #f0f8ff;border: 1px dotted black;border-radius: 0.25em;box-sizing: border-box;margin-bottom: 0.5em;}#sk-container-id-11 div.sk-estimator:hover {background-color: #d4ebff;}#sk-container-id-11 div.sk-parallel-item::after {content: \"\";width: 100%;border-bottom: 1px solid gray;flex-grow: 1;}#sk-container-id-11 div.sk-label:hover label.sk-toggleable__label {background-color: #d4ebff;}#sk-container-id-11 div.sk-serial::before {content: \"\";position: absolute;border-left: 1px solid gray;box-sizing: border-box;top: 0;bottom: 0;left: 50%;z-index: 0;}#sk-container-id-11 div.sk-serial {display: flex;flex-direction: column;align-items: center;background-color: white;padding-right: 0.2em;padding-left: 0.2em;position: relative;}#sk-container-id-11 div.sk-item {position: relative;z-index: 1;}#sk-container-id-11 div.sk-parallel {display: flex;align-items: stretch;justify-content: center;background-color: white;position: relative;}#sk-container-id-11 div.sk-item::before, #sk-container-id-11 div.sk-parallel-item::before {content: \"\";position: absolute;border-left: 1px solid gray;box-sizing: border-box;top: 0;bottom: 0;left: 50%;z-index: -1;}#sk-container-id-11 div.sk-parallel-item {display: flex;flex-direction: column;z-index: 1;position: relative;background-color: white;}#sk-container-id-11 div.sk-parallel-item:first-child::after {align-self: flex-end;width: 50%;}#sk-container-id-11 div.sk-parallel-item:last-child::after {align-self: flex-start;width: 50%;}#sk-container-id-11 div.sk-parallel-item:only-child::after {width: 0;}#sk-container-id-11 div.sk-dashed-wrapped {border: 1px dashed gray;margin: 0 0.4em 0.5em 0.4em;box-sizing: border-box;padding-bottom: 0.4em;background-color: white;}#sk-container-id-11 div.sk-label label {font-family: monospace;font-weight: bold;display: inline-block;line-height: 1.2em;}#sk-container-id-11 div.sk-label-container {text-align: center;}#sk-container-id-11 div.sk-container {/* jupyter's `normalize.less` sets `[hidden] { display: none; }` but bootstrap.min.css set `[hidden] { display: none !important; }` so we also need the `!important` here to be able to override the default hidden behavior on the sphinx rendered scikit-learn.org. See: https://github.com/scikit-learn/scikit-learn/issues/21755 */display: inline-block !important;position: relative;}#sk-container-id-11 div.sk-text-repr-fallback {display: none;}</style><div id=\"sk-container-id-11\" class=\"sk-top-container\"><div class=\"sk-text-repr-fallback\"><pre>GradientBoostingClassifier(max_depth=15, n_estimators=500, random_state=5)</pre><b>In a Jupyter environment, please rerun this cell to show the HTML representation or trust the notebook. <br />On GitHub, the HTML representation is unable to render, please try loading this page with nbviewer.org.</b></div><div class=\"sk-container\" hidden><div class=\"sk-item\"><div class=\"sk-estimator sk-toggleable\"><input class=\"sk-toggleable__control sk-hidden--visually\" id=\"sk-estimator-id-11\" type=\"checkbox\" checked><label for=\"sk-estimator-id-11\" class=\"sk-toggleable__label sk-toggleable__label-arrow\">GradientBoostingClassifier</label><div class=\"sk-toggleable__content\"><pre>GradientBoostingClassifier(max_depth=15, n_estimators=500, random_state=5)</pre></div></div></div></div></div>"
      ],
      "text/plain": [
       "GradientBoostingClassifier(max_depth=15, n_estimators=500, random_state=5)"
      ]
     },
     "execution_count": 51,
     "metadata": {},
     "output_type": "execute_result"
    }
   ],
   "source": [
    "#Modelo GradientBoostingClassifier de puntaje global\n",
    "gb_model_pg.fit(X_train_pg, y_train_pg)"
   ]
  },
  {
   "cell_type": "code",
   "execution_count": 52,
   "id": "129473df",
   "metadata": {},
   "outputs": [],
   "source": [
    "#Modelo GradientBoostingClassifier de puntaje global\n",
    "y_predict_gb_pg = gb_model_pg.predict(X_test_pg)"
   ]
  },
  {
   "cell_type": "code",
   "execution_count": 33,
   "id": "6ffa4fce",
   "metadata": {},
   "outputs": [],
   "source": [
    "#División de columnas de la variable objetivo\n",
    "X_pm = dfmatematicas.drop(['PUNT_MATEMATICAS'],axis=1)\n",
    "y_pm = dfmatematicas['PUNT_MATEMATICAS']\n",
    "X_train_pm, X_test_pm, y_train_pm, y_test_pm = train_test_split(X_pm, y_pm, test_size = 0.20, random_state=42)"
   ]
  },
  {
   "cell_type": "code",
   "execution_count": 66,
   "id": "d230842d",
   "metadata": {},
   "outputs": [
    {
     "data": {
      "text/html": [
       "<style>#sk-container-id-13 {color: black;background-color: white;}#sk-container-id-13 pre{padding: 0;}#sk-container-id-13 div.sk-toggleable {background-color: white;}#sk-container-id-13 label.sk-toggleable__label {cursor: pointer;display: block;width: 100%;margin-bottom: 0;padding: 0.3em;box-sizing: border-box;text-align: center;}#sk-container-id-13 label.sk-toggleable__label-arrow:before {content: \"▸\";float: left;margin-right: 0.25em;color: #696969;}#sk-container-id-13 label.sk-toggleable__label-arrow:hover:before {color: black;}#sk-container-id-13 div.sk-estimator:hover label.sk-toggleable__label-arrow:before {color: black;}#sk-container-id-13 div.sk-toggleable__content {max-height: 0;max-width: 0;overflow: hidden;text-align: left;background-color: #f0f8ff;}#sk-container-id-13 div.sk-toggleable__content pre {margin: 0.2em;color: black;border-radius: 0.25em;background-color: #f0f8ff;}#sk-container-id-13 input.sk-toggleable__control:checked~div.sk-toggleable__content {max-height: 200px;max-width: 100%;overflow: auto;}#sk-container-id-13 input.sk-toggleable__control:checked~label.sk-toggleable__label-arrow:before {content: \"▾\";}#sk-container-id-13 div.sk-estimator input.sk-toggleable__control:checked~label.sk-toggleable__label {background-color: #d4ebff;}#sk-container-id-13 div.sk-label input.sk-toggleable__control:checked~label.sk-toggleable__label {background-color: #d4ebff;}#sk-container-id-13 input.sk-hidden--visually {border: 0;clip: rect(1px 1px 1px 1px);clip: rect(1px, 1px, 1px, 1px);height: 1px;margin: -1px;overflow: hidden;padding: 0;position: absolute;width: 1px;}#sk-container-id-13 div.sk-estimator {font-family: monospace;background-color: #f0f8ff;border: 1px dotted black;border-radius: 0.25em;box-sizing: border-box;margin-bottom: 0.5em;}#sk-container-id-13 div.sk-estimator:hover {background-color: #d4ebff;}#sk-container-id-13 div.sk-parallel-item::after {content: \"\";width: 100%;border-bottom: 1px solid gray;flex-grow: 1;}#sk-container-id-13 div.sk-label:hover label.sk-toggleable__label {background-color: #d4ebff;}#sk-container-id-13 div.sk-serial::before {content: \"\";position: absolute;border-left: 1px solid gray;box-sizing: border-box;top: 0;bottom: 0;left: 50%;z-index: 0;}#sk-container-id-13 div.sk-serial {display: flex;flex-direction: column;align-items: center;background-color: white;padding-right: 0.2em;padding-left: 0.2em;position: relative;}#sk-container-id-13 div.sk-item {position: relative;z-index: 1;}#sk-container-id-13 div.sk-parallel {display: flex;align-items: stretch;justify-content: center;background-color: white;position: relative;}#sk-container-id-13 div.sk-item::before, #sk-container-id-13 div.sk-parallel-item::before {content: \"\";position: absolute;border-left: 1px solid gray;box-sizing: border-box;top: 0;bottom: 0;left: 50%;z-index: -1;}#sk-container-id-13 div.sk-parallel-item {display: flex;flex-direction: column;z-index: 1;position: relative;background-color: white;}#sk-container-id-13 div.sk-parallel-item:first-child::after {align-self: flex-end;width: 50%;}#sk-container-id-13 div.sk-parallel-item:last-child::after {align-self: flex-start;width: 50%;}#sk-container-id-13 div.sk-parallel-item:only-child::after {width: 0;}#sk-container-id-13 div.sk-dashed-wrapped {border: 1px dashed gray;margin: 0 0.4em 0.5em 0.4em;box-sizing: border-box;padding-bottom: 0.4em;background-color: white;}#sk-container-id-13 div.sk-label label {font-family: monospace;font-weight: bold;display: inline-block;line-height: 1.2em;}#sk-container-id-13 div.sk-label-container {text-align: center;}#sk-container-id-13 div.sk-container {/* jupyter's `normalize.less` sets `[hidden] { display: none; }` but bootstrap.min.css set `[hidden] { display: none !important; }` so we also need the `!important` here to be able to override the default hidden behavior on the sphinx rendered scikit-learn.org. See: https://github.com/scikit-learn/scikit-learn/issues/21755 */display: inline-block !important;position: relative;}#sk-container-id-13 div.sk-text-repr-fallback {display: none;}</style><div id=\"sk-container-id-13\" class=\"sk-top-container\"><div class=\"sk-text-repr-fallback\"><pre>RandomForestClassifier(criterion=&#x27;log_loss&#x27;, max_depth=5, n_estimators=500)</pre><b>In a Jupyter environment, please rerun this cell to show the HTML representation or trust the notebook. <br />On GitHub, the HTML representation is unable to render, please try loading this page with nbviewer.org.</b></div><div class=\"sk-container\" hidden><div class=\"sk-item\"><div class=\"sk-estimator sk-toggleable\"><input class=\"sk-toggleable__control sk-hidden--visually\" id=\"sk-estimator-id-13\" type=\"checkbox\" checked><label for=\"sk-estimator-id-13\" class=\"sk-toggleable__label sk-toggleable__label-arrow\">RandomForestClassifier</label><div class=\"sk-toggleable__content\"><pre>RandomForestClassifier(criterion=&#x27;log_loss&#x27;, max_depth=5, n_estimators=500)</pre></div></div></div></div></div>"
      ],
      "text/plain": [
       "RandomForestClassifier(criterion='log_loss', max_depth=5, n_estimators=500)"
      ]
     },
     "execution_count": 66,
     "metadata": {},
     "output_type": "execute_result"
    }
   ],
   "source": [
    "#Modelo RandomForestClassifier de puntaje de matemáticas\n",
    "random_pm.fit(X_train_pm,y_train_pm)"
   ]
  },
  {
   "cell_type": "code",
   "execution_count": 67,
   "id": "b27c86cf",
   "metadata": {},
   "outputs": [],
   "source": [
    "#Modelo RandomForestClassifier de puntaje de matemáticas\n",
    "y_predict_rf_pm = random_pm.predict(X_test_pm)"
   ]
  },
  {
   "cell_type": "code",
   "execution_count": 25,
   "id": "29dabca7",
   "metadata": {},
   "outputs": [
    {
     "data": {
      "text/html": [
       "<style>#sk-container-id-4 {color: black;background-color: white;}#sk-container-id-4 pre{padding: 0;}#sk-container-id-4 div.sk-toggleable {background-color: white;}#sk-container-id-4 label.sk-toggleable__label {cursor: pointer;display: block;width: 100%;margin-bottom: 0;padding: 0.3em;box-sizing: border-box;text-align: center;}#sk-container-id-4 label.sk-toggleable__label-arrow:before {content: \"▸\";float: left;margin-right: 0.25em;color: #696969;}#sk-container-id-4 label.sk-toggleable__label-arrow:hover:before {color: black;}#sk-container-id-4 div.sk-estimator:hover label.sk-toggleable__label-arrow:before {color: black;}#sk-container-id-4 div.sk-toggleable__content {max-height: 0;max-width: 0;overflow: hidden;text-align: left;background-color: #f0f8ff;}#sk-container-id-4 div.sk-toggleable__content pre {margin: 0.2em;color: black;border-radius: 0.25em;background-color: #f0f8ff;}#sk-container-id-4 input.sk-toggleable__control:checked~div.sk-toggleable__content {max-height: 200px;max-width: 100%;overflow: auto;}#sk-container-id-4 input.sk-toggleable__control:checked~label.sk-toggleable__label-arrow:before {content: \"▾\";}#sk-container-id-4 div.sk-estimator input.sk-toggleable__control:checked~label.sk-toggleable__label {background-color: #d4ebff;}#sk-container-id-4 div.sk-label input.sk-toggleable__control:checked~label.sk-toggleable__label {background-color: #d4ebff;}#sk-container-id-4 input.sk-hidden--visually {border: 0;clip: rect(1px 1px 1px 1px);clip: rect(1px, 1px, 1px, 1px);height: 1px;margin: -1px;overflow: hidden;padding: 0;position: absolute;width: 1px;}#sk-container-id-4 div.sk-estimator {font-family: monospace;background-color: #f0f8ff;border: 1px dotted black;border-radius: 0.25em;box-sizing: border-box;margin-bottom: 0.5em;}#sk-container-id-4 div.sk-estimator:hover {background-color: #d4ebff;}#sk-container-id-4 div.sk-parallel-item::after {content: \"\";width: 100%;border-bottom: 1px solid gray;flex-grow: 1;}#sk-container-id-4 div.sk-label:hover label.sk-toggleable__label {background-color: #d4ebff;}#sk-container-id-4 div.sk-serial::before {content: \"\";position: absolute;border-left: 1px solid gray;box-sizing: border-box;top: 0;bottom: 0;left: 50%;z-index: 0;}#sk-container-id-4 div.sk-serial {display: flex;flex-direction: column;align-items: center;background-color: white;padding-right: 0.2em;padding-left: 0.2em;position: relative;}#sk-container-id-4 div.sk-item {position: relative;z-index: 1;}#sk-container-id-4 div.sk-parallel {display: flex;align-items: stretch;justify-content: center;background-color: white;position: relative;}#sk-container-id-4 div.sk-item::before, #sk-container-id-4 div.sk-parallel-item::before {content: \"\";position: absolute;border-left: 1px solid gray;box-sizing: border-box;top: 0;bottom: 0;left: 50%;z-index: -1;}#sk-container-id-4 div.sk-parallel-item {display: flex;flex-direction: column;z-index: 1;position: relative;background-color: white;}#sk-container-id-4 div.sk-parallel-item:first-child::after {align-self: flex-end;width: 50%;}#sk-container-id-4 div.sk-parallel-item:last-child::after {align-self: flex-start;width: 50%;}#sk-container-id-4 div.sk-parallel-item:only-child::after {width: 0;}#sk-container-id-4 div.sk-dashed-wrapped {border: 1px dashed gray;margin: 0 0.4em 0.5em 0.4em;box-sizing: border-box;padding-bottom: 0.4em;background-color: white;}#sk-container-id-4 div.sk-label label {font-family: monospace;font-weight: bold;display: inline-block;line-height: 1.2em;}#sk-container-id-4 div.sk-label-container {text-align: center;}#sk-container-id-4 div.sk-container {/* jupyter's `normalize.less` sets `[hidden] { display: none; }` but bootstrap.min.css set `[hidden] { display: none !important; }` so we also need the `!important` here to be able to override the default hidden behavior on the sphinx rendered scikit-learn.org. See: https://github.com/scikit-learn/scikit-learn/issues/21755 */display: inline-block !important;position: relative;}#sk-container-id-4 div.sk-text-repr-fallback {display: none;}</style><div id=\"sk-container-id-4\" class=\"sk-top-container\"><div class=\"sk-text-repr-fallback\"><pre>GradientBoostingClassifier(max_depth=15, n_estimators=500, random_state=10)</pre><b>In a Jupyter environment, please rerun this cell to show the HTML representation or trust the notebook. <br />On GitHub, the HTML representation is unable to render, please try loading this page with nbviewer.org.</b></div><div class=\"sk-container\" hidden><div class=\"sk-item\"><div class=\"sk-estimator sk-toggleable\"><input class=\"sk-toggleable__control sk-hidden--visually\" id=\"sk-estimator-id-4\" type=\"checkbox\" checked><label for=\"sk-estimator-id-4\" class=\"sk-toggleable__label sk-toggleable__label-arrow\">GradientBoostingClassifier</label><div class=\"sk-toggleable__content\"><pre>GradientBoostingClassifier(max_depth=15, n_estimators=500, random_state=10)</pre></div></div></div></div></div>"
      ],
      "text/plain": [
       "GradientBoostingClassifier(max_depth=15, n_estimators=500, random_state=10)"
      ]
     },
     "execution_count": 25,
     "metadata": {},
     "output_type": "execute_result"
    }
   ],
   "source": [
    "#Modelo GradientBoostingClassifier de puntaje de matemáticas\n",
    "gb_model_pm.fit(X_train_pm, y_train_pm)"
   ]
  },
  {
   "cell_type": "code",
   "execution_count": 26,
   "id": "6ffa402c",
   "metadata": {},
   "outputs": [],
   "source": [
    "#Modelo GradientBoostingClassifier de puntaje de matemáticas\n",
    "y_predict_gb_pm = gb_model_pm.predict(X_test_pm)"
   ]
  },
  {
   "cell_type": "code",
   "execution_count": 13,
   "id": "61769625",
   "metadata": {},
   "outputs": [],
   "source": [
    "#División de columnas de la variable objetivo\n",
    "X_pi = dfingles.drop(['PUNT_INGLES'],axis=1)\n",
    "y_pi = dfingles['PUNT_INGLES']\n",
    "X_train_pi, X_test_pi, y_train_pi, y_test_pi = train_test_split(X_pi, y_pi, test_size = 0.20, random_state=3)"
   ]
  },
  {
   "cell_type": "code",
   "execution_count": 14,
   "id": "69c52aec",
   "metadata": {},
   "outputs": [
    {
     "data": {
      "text/html": [
       "<style>#sk-container-id-1 {color: black;background-color: white;}#sk-container-id-1 pre{padding: 0;}#sk-container-id-1 div.sk-toggleable {background-color: white;}#sk-container-id-1 label.sk-toggleable__label {cursor: pointer;display: block;width: 100%;margin-bottom: 0;padding: 0.3em;box-sizing: border-box;text-align: center;}#sk-container-id-1 label.sk-toggleable__label-arrow:before {content: \"▸\";float: left;margin-right: 0.25em;color: #696969;}#sk-container-id-1 label.sk-toggleable__label-arrow:hover:before {color: black;}#sk-container-id-1 div.sk-estimator:hover label.sk-toggleable__label-arrow:before {color: black;}#sk-container-id-1 div.sk-toggleable__content {max-height: 0;max-width: 0;overflow: hidden;text-align: left;background-color: #f0f8ff;}#sk-container-id-1 div.sk-toggleable__content pre {margin: 0.2em;color: black;border-radius: 0.25em;background-color: #f0f8ff;}#sk-container-id-1 input.sk-toggleable__control:checked~div.sk-toggleable__content {max-height: 200px;max-width: 100%;overflow: auto;}#sk-container-id-1 input.sk-toggleable__control:checked~label.sk-toggleable__label-arrow:before {content: \"▾\";}#sk-container-id-1 div.sk-estimator input.sk-toggleable__control:checked~label.sk-toggleable__label {background-color: #d4ebff;}#sk-container-id-1 div.sk-label input.sk-toggleable__control:checked~label.sk-toggleable__label {background-color: #d4ebff;}#sk-container-id-1 input.sk-hidden--visually {border: 0;clip: rect(1px 1px 1px 1px);clip: rect(1px, 1px, 1px, 1px);height: 1px;margin: -1px;overflow: hidden;padding: 0;position: absolute;width: 1px;}#sk-container-id-1 div.sk-estimator {font-family: monospace;background-color: #f0f8ff;border: 1px dotted black;border-radius: 0.25em;box-sizing: border-box;margin-bottom: 0.5em;}#sk-container-id-1 div.sk-estimator:hover {background-color: #d4ebff;}#sk-container-id-1 div.sk-parallel-item::after {content: \"\";width: 100%;border-bottom: 1px solid gray;flex-grow: 1;}#sk-container-id-1 div.sk-label:hover label.sk-toggleable__label {background-color: #d4ebff;}#sk-container-id-1 div.sk-serial::before {content: \"\";position: absolute;border-left: 1px solid gray;box-sizing: border-box;top: 0;bottom: 0;left: 50%;z-index: 0;}#sk-container-id-1 div.sk-serial {display: flex;flex-direction: column;align-items: center;background-color: white;padding-right: 0.2em;padding-left: 0.2em;position: relative;}#sk-container-id-1 div.sk-item {position: relative;z-index: 1;}#sk-container-id-1 div.sk-parallel {display: flex;align-items: stretch;justify-content: center;background-color: white;position: relative;}#sk-container-id-1 div.sk-item::before, #sk-container-id-1 div.sk-parallel-item::before {content: \"\";position: absolute;border-left: 1px solid gray;box-sizing: border-box;top: 0;bottom: 0;left: 50%;z-index: -1;}#sk-container-id-1 div.sk-parallel-item {display: flex;flex-direction: column;z-index: 1;position: relative;background-color: white;}#sk-container-id-1 div.sk-parallel-item:first-child::after {align-self: flex-end;width: 50%;}#sk-container-id-1 div.sk-parallel-item:last-child::after {align-self: flex-start;width: 50%;}#sk-container-id-1 div.sk-parallel-item:only-child::after {width: 0;}#sk-container-id-1 div.sk-dashed-wrapped {border: 1px dashed gray;margin: 0 0.4em 0.5em 0.4em;box-sizing: border-box;padding-bottom: 0.4em;background-color: white;}#sk-container-id-1 div.sk-label label {font-family: monospace;font-weight: bold;display: inline-block;line-height: 1.2em;}#sk-container-id-1 div.sk-label-container {text-align: center;}#sk-container-id-1 div.sk-container {/* jupyter's `normalize.less` sets `[hidden] { display: none; }` but bootstrap.min.css set `[hidden] { display: none !important; }` so we also need the `!important` here to be able to override the default hidden behavior on the sphinx rendered scikit-learn.org. See: https://github.com/scikit-learn/scikit-learn/issues/21755 */display: inline-block !important;position: relative;}#sk-container-id-1 div.sk-text-repr-fallback {display: none;}</style><div id=\"sk-container-id-1\" class=\"sk-top-container\"><div class=\"sk-text-repr-fallback\"><pre>RandomForestClassifier(criterion=&#x27;log_loss&#x27;, max_depth=5, n_estimators=500)</pre><b>In a Jupyter environment, please rerun this cell to show the HTML representation or trust the notebook. <br />On GitHub, the HTML representation is unable to render, please try loading this page with nbviewer.org.</b></div><div class=\"sk-container\" hidden><div class=\"sk-item\"><div class=\"sk-estimator sk-toggleable\"><input class=\"sk-toggleable__control sk-hidden--visually\" id=\"sk-estimator-id-1\" type=\"checkbox\" checked><label for=\"sk-estimator-id-1\" class=\"sk-toggleable__label sk-toggleable__label-arrow\">RandomForestClassifier</label><div class=\"sk-toggleable__content\"><pre>RandomForestClassifier(criterion=&#x27;log_loss&#x27;, max_depth=5, n_estimators=500)</pre></div></div></div></div></div>"
      ],
      "text/plain": [
       "RandomForestClassifier(criterion='log_loss', max_depth=5, n_estimators=500)"
      ]
     },
     "execution_count": 14,
     "metadata": {},
     "output_type": "execute_result"
    }
   ],
   "source": [
    "#Modelo RandomForestClassifier de puntaje de inglés\n",
    "random_pi.fit(X_train_pi,y_train_pi)"
   ]
  },
  {
   "cell_type": "code",
   "execution_count": 15,
   "id": "a4f0e004",
   "metadata": {},
   "outputs": [],
   "source": [
    "#Modelo RandomForestClassifier de puntaje de inglés\n",
    "y_predict_rf_pi = random_pi.predict(X_test_pi)"
   ]
  },
  {
   "cell_type": "code",
   "execution_count": 19,
   "id": "31b306f3",
   "metadata": {},
   "outputs": [
    {
     "data": {
      "text/html": [
       "<style>#sk-container-id-4 {color: black;background-color: white;}#sk-container-id-4 pre{padding: 0;}#sk-container-id-4 div.sk-toggleable {background-color: white;}#sk-container-id-4 label.sk-toggleable__label {cursor: pointer;display: block;width: 100%;margin-bottom: 0;padding: 0.3em;box-sizing: border-box;text-align: center;}#sk-container-id-4 label.sk-toggleable__label-arrow:before {content: \"▸\";float: left;margin-right: 0.25em;color: #696969;}#sk-container-id-4 label.sk-toggleable__label-arrow:hover:before {color: black;}#sk-container-id-4 div.sk-estimator:hover label.sk-toggleable__label-arrow:before {color: black;}#sk-container-id-4 div.sk-toggleable__content {max-height: 0;max-width: 0;overflow: hidden;text-align: left;background-color: #f0f8ff;}#sk-container-id-4 div.sk-toggleable__content pre {margin: 0.2em;color: black;border-radius: 0.25em;background-color: #f0f8ff;}#sk-container-id-4 input.sk-toggleable__control:checked~div.sk-toggleable__content {max-height: 200px;max-width: 100%;overflow: auto;}#sk-container-id-4 input.sk-toggleable__control:checked~label.sk-toggleable__label-arrow:before {content: \"▾\";}#sk-container-id-4 div.sk-estimator input.sk-toggleable__control:checked~label.sk-toggleable__label {background-color: #d4ebff;}#sk-container-id-4 div.sk-label input.sk-toggleable__control:checked~label.sk-toggleable__label {background-color: #d4ebff;}#sk-container-id-4 input.sk-hidden--visually {border: 0;clip: rect(1px 1px 1px 1px);clip: rect(1px, 1px, 1px, 1px);height: 1px;margin: -1px;overflow: hidden;padding: 0;position: absolute;width: 1px;}#sk-container-id-4 div.sk-estimator {font-family: monospace;background-color: #f0f8ff;border: 1px dotted black;border-radius: 0.25em;box-sizing: border-box;margin-bottom: 0.5em;}#sk-container-id-4 div.sk-estimator:hover {background-color: #d4ebff;}#sk-container-id-4 div.sk-parallel-item::after {content: \"\";width: 100%;border-bottom: 1px solid gray;flex-grow: 1;}#sk-container-id-4 div.sk-label:hover label.sk-toggleable__label {background-color: #d4ebff;}#sk-container-id-4 div.sk-serial::before {content: \"\";position: absolute;border-left: 1px solid gray;box-sizing: border-box;top: 0;bottom: 0;left: 50%;z-index: 0;}#sk-container-id-4 div.sk-serial {display: flex;flex-direction: column;align-items: center;background-color: white;padding-right: 0.2em;padding-left: 0.2em;position: relative;}#sk-container-id-4 div.sk-item {position: relative;z-index: 1;}#sk-container-id-4 div.sk-parallel {display: flex;align-items: stretch;justify-content: center;background-color: white;position: relative;}#sk-container-id-4 div.sk-item::before, #sk-container-id-4 div.sk-parallel-item::before {content: \"\";position: absolute;border-left: 1px solid gray;box-sizing: border-box;top: 0;bottom: 0;left: 50%;z-index: -1;}#sk-container-id-4 div.sk-parallel-item {display: flex;flex-direction: column;z-index: 1;position: relative;background-color: white;}#sk-container-id-4 div.sk-parallel-item:first-child::after {align-self: flex-end;width: 50%;}#sk-container-id-4 div.sk-parallel-item:last-child::after {align-self: flex-start;width: 50%;}#sk-container-id-4 div.sk-parallel-item:only-child::after {width: 0;}#sk-container-id-4 div.sk-dashed-wrapped {border: 1px dashed gray;margin: 0 0.4em 0.5em 0.4em;box-sizing: border-box;padding-bottom: 0.4em;background-color: white;}#sk-container-id-4 div.sk-label label {font-family: monospace;font-weight: bold;display: inline-block;line-height: 1.2em;}#sk-container-id-4 div.sk-label-container {text-align: center;}#sk-container-id-4 div.sk-container {/* jupyter's `normalize.less` sets `[hidden] { display: none; }` but bootstrap.min.css set `[hidden] { display: none !important; }` so we also need the `!important` here to be able to override the default hidden behavior on the sphinx rendered scikit-learn.org. See: https://github.com/scikit-learn/scikit-learn/issues/21755 */display: inline-block !important;position: relative;}#sk-container-id-4 div.sk-text-repr-fallback {display: none;}</style><div id=\"sk-container-id-4\" class=\"sk-top-container\"><div class=\"sk-text-repr-fallback\"><pre>GradientBoostingClassifier(max_depth=15, n_estimators=500, random_state=15)</pre><b>In a Jupyter environment, please rerun this cell to show the HTML representation or trust the notebook. <br />On GitHub, the HTML representation is unable to render, please try loading this page with nbviewer.org.</b></div><div class=\"sk-container\" hidden><div class=\"sk-item\"><div class=\"sk-estimator sk-toggleable\"><input class=\"sk-toggleable__control sk-hidden--visually\" id=\"sk-estimator-id-4\" type=\"checkbox\" checked><label for=\"sk-estimator-id-4\" class=\"sk-toggleable__label sk-toggleable__label-arrow\">GradientBoostingClassifier</label><div class=\"sk-toggleable__content\"><pre>GradientBoostingClassifier(max_depth=15, n_estimators=500, random_state=15)</pre></div></div></div></div></div>"
      ],
      "text/plain": [
       "GradientBoostingClassifier(max_depth=15, n_estimators=500, random_state=15)"
      ]
     },
     "execution_count": 19,
     "metadata": {},
     "output_type": "execute_result"
    }
   ],
   "source": [
    "#Modelo GradientBoostingClassifier de puntaje de inglés\n",
    "gb_model_pi.fit(X_train_pi, y_train_pi)"
   ]
  },
  {
   "cell_type": "code",
   "execution_count": 31,
   "id": "0ca5062e",
   "metadata": {},
   "outputs": [],
   "source": [
    "#Modelo GradientBoostingClassifier de puntaje de inglés\n",
    "y_predict_gb_pi = gb_model_pi.predict(X_test_pi)"
   ]
  },
  {
   "cell_type": "code",
   "execution_count": 12,
   "id": "2b13b63a",
   "metadata": {},
   "outputs": [],
   "source": [
    "#División de columnas de la variable objetivo\n",
    "X_pcn = dfcnaturales.drop(['PUNT_C_NATURALES'],axis=1)\n",
    "y_pcn = dfcnaturales['PUNT_C_NATURALES']\n",
    "X_train_pcn, X_test_pcn, y_train_pcn, y_test_pcn = train_test_split(X_pcn, y_pcn, test_size = 0.20, random_state=3)"
   ]
  },
  {
   "cell_type": "code",
   "execution_count": 13,
   "id": "aa9d8041",
   "metadata": {},
   "outputs": [
    {
     "data": {
      "text/html": [
       "<style>#sk-container-id-1 {color: black;background-color: white;}#sk-container-id-1 pre{padding: 0;}#sk-container-id-1 div.sk-toggleable {background-color: white;}#sk-container-id-1 label.sk-toggleable__label {cursor: pointer;display: block;width: 100%;margin-bottom: 0;padding: 0.3em;box-sizing: border-box;text-align: center;}#sk-container-id-1 label.sk-toggleable__label-arrow:before {content: \"▸\";float: left;margin-right: 0.25em;color: #696969;}#sk-container-id-1 label.sk-toggleable__label-arrow:hover:before {color: black;}#sk-container-id-1 div.sk-estimator:hover label.sk-toggleable__label-arrow:before {color: black;}#sk-container-id-1 div.sk-toggleable__content {max-height: 0;max-width: 0;overflow: hidden;text-align: left;background-color: #f0f8ff;}#sk-container-id-1 div.sk-toggleable__content pre {margin: 0.2em;color: black;border-radius: 0.25em;background-color: #f0f8ff;}#sk-container-id-1 input.sk-toggleable__control:checked~div.sk-toggleable__content {max-height: 200px;max-width: 100%;overflow: auto;}#sk-container-id-1 input.sk-toggleable__control:checked~label.sk-toggleable__label-arrow:before {content: \"▾\";}#sk-container-id-1 div.sk-estimator input.sk-toggleable__control:checked~label.sk-toggleable__label {background-color: #d4ebff;}#sk-container-id-1 div.sk-label input.sk-toggleable__control:checked~label.sk-toggleable__label {background-color: #d4ebff;}#sk-container-id-1 input.sk-hidden--visually {border: 0;clip: rect(1px 1px 1px 1px);clip: rect(1px, 1px, 1px, 1px);height: 1px;margin: -1px;overflow: hidden;padding: 0;position: absolute;width: 1px;}#sk-container-id-1 div.sk-estimator {font-family: monospace;background-color: #f0f8ff;border: 1px dotted black;border-radius: 0.25em;box-sizing: border-box;margin-bottom: 0.5em;}#sk-container-id-1 div.sk-estimator:hover {background-color: #d4ebff;}#sk-container-id-1 div.sk-parallel-item::after {content: \"\";width: 100%;border-bottom: 1px solid gray;flex-grow: 1;}#sk-container-id-1 div.sk-label:hover label.sk-toggleable__label {background-color: #d4ebff;}#sk-container-id-1 div.sk-serial::before {content: \"\";position: absolute;border-left: 1px solid gray;box-sizing: border-box;top: 0;bottom: 0;left: 50%;z-index: 0;}#sk-container-id-1 div.sk-serial {display: flex;flex-direction: column;align-items: center;background-color: white;padding-right: 0.2em;padding-left: 0.2em;position: relative;}#sk-container-id-1 div.sk-item {position: relative;z-index: 1;}#sk-container-id-1 div.sk-parallel {display: flex;align-items: stretch;justify-content: center;background-color: white;position: relative;}#sk-container-id-1 div.sk-item::before, #sk-container-id-1 div.sk-parallel-item::before {content: \"\";position: absolute;border-left: 1px solid gray;box-sizing: border-box;top: 0;bottom: 0;left: 50%;z-index: -1;}#sk-container-id-1 div.sk-parallel-item {display: flex;flex-direction: column;z-index: 1;position: relative;background-color: white;}#sk-container-id-1 div.sk-parallel-item:first-child::after {align-self: flex-end;width: 50%;}#sk-container-id-1 div.sk-parallel-item:last-child::after {align-self: flex-start;width: 50%;}#sk-container-id-1 div.sk-parallel-item:only-child::after {width: 0;}#sk-container-id-1 div.sk-dashed-wrapped {border: 1px dashed gray;margin: 0 0.4em 0.5em 0.4em;box-sizing: border-box;padding-bottom: 0.4em;background-color: white;}#sk-container-id-1 div.sk-label label {font-family: monospace;font-weight: bold;display: inline-block;line-height: 1.2em;}#sk-container-id-1 div.sk-label-container {text-align: center;}#sk-container-id-1 div.sk-container {/* jupyter's `normalize.less` sets `[hidden] { display: none; }` but bootstrap.min.css set `[hidden] { display: none !important; }` so we also need the `!important` here to be able to override the default hidden behavior on the sphinx rendered scikit-learn.org. See: https://github.com/scikit-learn/scikit-learn/issues/21755 */display: inline-block !important;position: relative;}#sk-container-id-1 div.sk-text-repr-fallback {display: none;}</style><div id=\"sk-container-id-1\" class=\"sk-top-container\"><div class=\"sk-text-repr-fallback\"><pre>RandomForestClassifier(criterion=&#x27;log_loss&#x27;, max_depth=15, n_estimators=500)</pre><b>In a Jupyter environment, please rerun this cell to show the HTML representation or trust the notebook. <br />On GitHub, the HTML representation is unable to render, please try loading this page with nbviewer.org.</b></div><div class=\"sk-container\" hidden><div class=\"sk-item\"><div class=\"sk-estimator sk-toggleable\"><input class=\"sk-toggleable__control sk-hidden--visually\" id=\"sk-estimator-id-1\" type=\"checkbox\" checked><label for=\"sk-estimator-id-1\" class=\"sk-toggleable__label sk-toggleable__label-arrow\">RandomForestClassifier</label><div class=\"sk-toggleable__content\"><pre>RandomForestClassifier(criterion=&#x27;log_loss&#x27;, max_depth=15, n_estimators=500)</pre></div></div></div></div></div>"
      ],
      "text/plain": [
       "RandomForestClassifier(criterion='log_loss', max_depth=15, n_estimators=500)"
      ]
     },
     "execution_count": 13,
     "metadata": {},
     "output_type": "execute_result"
    }
   ],
   "source": [
    "#Modelo RandomForestClassifier de puntaje de ciencias naturales\n",
    "random_pcn.fit(X_train_pcn,y_train_pcn)"
   ]
  },
  {
   "cell_type": "code",
   "execution_count": 14,
   "id": "aab272e9",
   "metadata": {},
   "outputs": [],
   "source": [
    "#Modelo RandomForestClassifier de puntaje de ciencias naturales\n",
    "y_predict_rf_pcn = random_pcn.predict(X_test_pcn)"
   ]
  },
  {
   "cell_type": "code",
   "execution_count": 15,
   "id": "8b2bdecf",
   "metadata": {},
   "outputs": [
    {
     "data": {
      "text/html": [
       "<style>#sk-container-id-2 {color: black;background-color: white;}#sk-container-id-2 pre{padding: 0;}#sk-container-id-2 div.sk-toggleable {background-color: white;}#sk-container-id-2 label.sk-toggleable__label {cursor: pointer;display: block;width: 100%;margin-bottom: 0;padding: 0.3em;box-sizing: border-box;text-align: center;}#sk-container-id-2 label.sk-toggleable__label-arrow:before {content: \"▸\";float: left;margin-right: 0.25em;color: #696969;}#sk-container-id-2 label.sk-toggleable__label-arrow:hover:before {color: black;}#sk-container-id-2 div.sk-estimator:hover label.sk-toggleable__label-arrow:before {color: black;}#sk-container-id-2 div.sk-toggleable__content {max-height: 0;max-width: 0;overflow: hidden;text-align: left;background-color: #f0f8ff;}#sk-container-id-2 div.sk-toggleable__content pre {margin: 0.2em;color: black;border-radius: 0.25em;background-color: #f0f8ff;}#sk-container-id-2 input.sk-toggleable__control:checked~div.sk-toggleable__content {max-height: 200px;max-width: 100%;overflow: auto;}#sk-container-id-2 input.sk-toggleable__control:checked~label.sk-toggleable__label-arrow:before {content: \"▾\";}#sk-container-id-2 div.sk-estimator input.sk-toggleable__control:checked~label.sk-toggleable__label {background-color: #d4ebff;}#sk-container-id-2 div.sk-label input.sk-toggleable__control:checked~label.sk-toggleable__label {background-color: #d4ebff;}#sk-container-id-2 input.sk-hidden--visually {border: 0;clip: rect(1px 1px 1px 1px);clip: rect(1px, 1px, 1px, 1px);height: 1px;margin: -1px;overflow: hidden;padding: 0;position: absolute;width: 1px;}#sk-container-id-2 div.sk-estimator {font-family: monospace;background-color: #f0f8ff;border: 1px dotted black;border-radius: 0.25em;box-sizing: border-box;margin-bottom: 0.5em;}#sk-container-id-2 div.sk-estimator:hover {background-color: #d4ebff;}#sk-container-id-2 div.sk-parallel-item::after {content: \"\";width: 100%;border-bottom: 1px solid gray;flex-grow: 1;}#sk-container-id-2 div.sk-label:hover label.sk-toggleable__label {background-color: #d4ebff;}#sk-container-id-2 div.sk-serial::before {content: \"\";position: absolute;border-left: 1px solid gray;box-sizing: border-box;top: 0;bottom: 0;left: 50%;z-index: 0;}#sk-container-id-2 div.sk-serial {display: flex;flex-direction: column;align-items: center;background-color: white;padding-right: 0.2em;padding-left: 0.2em;position: relative;}#sk-container-id-2 div.sk-item {position: relative;z-index: 1;}#sk-container-id-2 div.sk-parallel {display: flex;align-items: stretch;justify-content: center;background-color: white;position: relative;}#sk-container-id-2 div.sk-item::before, #sk-container-id-2 div.sk-parallel-item::before {content: \"\";position: absolute;border-left: 1px solid gray;box-sizing: border-box;top: 0;bottom: 0;left: 50%;z-index: -1;}#sk-container-id-2 div.sk-parallel-item {display: flex;flex-direction: column;z-index: 1;position: relative;background-color: white;}#sk-container-id-2 div.sk-parallel-item:first-child::after {align-self: flex-end;width: 50%;}#sk-container-id-2 div.sk-parallel-item:last-child::after {align-self: flex-start;width: 50%;}#sk-container-id-2 div.sk-parallel-item:only-child::after {width: 0;}#sk-container-id-2 div.sk-dashed-wrapped {border: 1px dashed gray;margin: 0 0.4em 0.5em 0.4em;box-sizing: border-box;padding-bottom: 0.4em;background-color: white;}#sk-container-id-2 div.sk-label label {font-family: monospace;font-weight: bold;display: inline-block;line-height: 1.2em;}#sk-container-id-2 div.sk-label-container {text-align: center;}#sk-container-id-2 div.sk-container {/* jupyter's `normalize.less` sets `[hidden] { display: none; }` but bootstrap.min.css set `[hidden] { display: none !important; }` so we also need the `!important` here to be able to override the default hidden behavior on the sphinx rendered scikit-learn.org. See: https://github.com/scikit-learn/scikit-learn/issues/21755 */display: inline-block !important;position: relative;}#sk-container-id-2 div.sk-text-repr-fallback {display: none;}</style><div id=\"sk-container-id-2\" class=\"sk-top-container\"><div class=\"sk-text-repr-fallback\"><pre>GradientBoostingClassifier(max_depth=15, n_estimators=500, random_state=20)</pre><b>In a Jupyter environment, please rerun this cell to show the HTML representation or trust the notebook. <br />On GitHub, the HTML representation is unable to render, please try loading this page with nbviewer.org.</b></div><div class=\"sk-container\" hidden><div class=\"sk-item\"><div class=\"sk-estimator sk-toggleable\"><input class=\"sk-toggleable__control sk-hidden--visually\" id=\"sk-estimator-id-2\" type=\"checkbox\" checked><label for=\"sk-estimator-id-2\" class=\"sk-toggleable__label sk-toggleable__label-arrow\">GradientBoostingClassifier</label><div class=\"sk-toggleable__content\"><pre>GradientBoostingClassifier(max_depth=15, n_estimators=500, random_state=20)</pre></div></div></div></div></div>"
      ],
      "text/plain": [
       "GradientBoostingClassifier(max_depth=15, n_estimators=500, random_state=20)"
      ]
     },
     "execution_count": 15,
     "metadata": {},
     "output_type": "execute_result"
    }
   ],
   "source": [
    "#Modelo GradientBoostingClassifier de ciencias naturales\n",
    "gb_model_pcn.fit(X_train_pcn, y_train_pcn)"
   ]
  },
  {
   "cell_type": "code",
   "execution_count": 16,
   "id": "f8451e5a",
   "metadata": {},
   "outputs": [],
   "source": [
    "#Modelo GradientBoostingClassifier de ciencias naturales\n",
    "y_predict_gb_pcn = gb_model_pcn.predict(X_test_pcn)"
   ]
  },
  {
   "cell_type": "code",
   "execution_count": 42,
   "id": "0b3df365",
   "metadata": {},
   "outputs": [],
   "source": [
    "#División de columnas de la variable objetivo\n",
    "X_plc = dflcritica.drop(['PUNT_LECTURA_CRITICA'],axis=1)\n",
    "y_plc = dflcritica['PUNT_LECTURA_CRITICA']\n",
    "X_train_plc, X_test_plc, y_train_plc, y_test_plc = train_test_split(X_plc, y_plc, test_size = 0.20, random_state=3)"
   ]
  },
  {
   "cell_type": "code",
   "execution_count": 72,
   "id": "d045283f",
   "metadata": {},
   "outputs": [
    {
     "data": {
      "text/html": [
       "<style>#sk-container-id-16 {color: black;background-color: white;}#sk-container-id-16 pre{padding: 0;}#sk-container-id-16 div.sk-toggleable {background-color: white;}#sk-container-id-16 label.sk-toggleable__label {cursor: pointer;display: block;width: 100%;margin-bottom: 0;padding: 0.3em;box-sizing: border-box;text-align: center;}#sk-container-id-16 label.sk-toggleable__label-arrow:before {content: \"▸\";float: left;margin-right: 0.25em;color: #696969;}#sk-container-id-16 label.sk-toggleable__label-arrow:hover:before {color: black;}#sk-container-id-16 div.sk-estimator:hover label.sk-toggleable__label-arrow:before {color: black;}#sk-container-id-16 div.sk-toggleable__content {max-height: 0;max-width: 0;overflow: hidden;text-align: left;background-color: #f0f8ff;}#sk-container-id-16 div.sk-toggleable__content pre {margin: 0.2em;color: black;border-radius: 0.25em;background-color: #f0f8ff;}#sk-container-id-16 input.sk-toggleable__control:checked~div.sk-toggleable__content {max-height: 200px;max-width: 100%;overflow: auto;}#sk-container-id-16 input.sk-toggleable__control:checked~label.sk-toggleable__label-arrow:before {content: \"▾\";}#sk-container-id-16 div.sk-estimator input.sk-toggleable__control:checked~label.sk-toggleable__label {background-color: #d4ebff;}#sk-container-id-16 div.sk-label input.sk-toggleable__control:checked~label.sk-toggleable__label {background-color: #d4ebff;}#sk-container-id-16 input.sk-hidden--visually {border: 0;clip: rect(1px 1px 1px 1px);clip: rect(1px, 1px, 1px, 1px);height: 1px;margin: -1px;overflow: hidden;padding: 0;position: absolute;width: 1px;}#sk-container-id-16 div.sk-estimator {font-family: monospace;background-color: #f0f8ff;border: 1px dotted black;border-radius: 0.25em;box-sizing: border-box;margin-bottom: 0.5em;}#sk-container-id-16 div.sk-estimator:hover {background-color: #d4ebff;}#sk-container-id-16 div.sk-parallel-item::after {content: \"\";width: 100%;border-bottom: 1px solid gray;flex-grow: 1;}#sk-container-id-16 div.sk-label:hover label.sk-toggleable__label {background-color: #d4ebff;}#sk-container-id-16 div.sk-serial::before {content: \"\";position: absolute;border-left: 1px solid gray;box-sizing: border-box;top: 0;bottom: 0;left: 50%;z-index: 0;}#sk-container-id-16 div.sk-serial {display: flex;flex-direction: column;align-items: center;background-color: white;padding-right: 0.2em;padding-left: 0.2em;position: relative;}#sk-container-id-16 div.sk-item {position: relative;z-index: 1;}#sk-container-id-16 div.sk-parallel {display: flex;align-items: stretch;justify-content: center;background-color: white;position: relative;}#sk-container-id-16 div.sk-item::before, #sk-container-id-16 div.sk-parallel-item::before {content: \"\";position: absolute;border-left: 1px solid gray;box-sizing: border-box;top: 0;bottom: 0;left: 50%;z-index: -1;}#sk-container-id-16 div.sk-parallel-item {display: flex;flex-direction: column;z-index: 1;position: relative;background-color: white;}#sk-container-id-16 div.sk-parallel-item:first-child::after {align-self: flex-end;width: 50%;}#sk-container-id-16 div.sk-parallel-item:last-child::after {align-self: flex-start;width: 50%;}#sk-container-id-16 div.sk-parallel-item:only-child::after {width: 0;}#sk-container-id-16 div.sk-dashed-wrapped {border: 1px dashed gray;margin: 0 0.4em 0.5em 0.4em;box-sizing: border-box;padding-bottom: 0.4em;background-color: white;}#sk-container-id-16 div.sk-label label {font-family: monospace;font-weight: bold;display: inline-block;line-height: 1.2em;}#sk-container-id-16 div.sk-label-container {text-align: center;}#sk-container-id-16 div.sk-container {/* jupyter's `normalize.less` sets `[hidden] { display: none; }` but bootstrap.min.css set `[hidden] { display: none !important; }` so we also need the `!important` here to be able to override the default hidden behavior on the sphinx rendered scikit-learn.org. See: https://github.com/scikit-learn/scikit-learn/issues/21755 */display: inline-block !important;position: relative;}#sk-container-id-16 div.sk-text-repr-fallback {display: none;}</style><div id=\"sk-container-id-16\" class=\"sk-top-container\"><div class=\"sk-text-repr-fallback\"><pre>RandomForestClassifier(criterion=&#x27;log_loss&#x27;, max_depth=5, n_estimators=500)</pre><b>In a Jupyter environment, please rerun this cell to show the HTML representation or trust the notebook. <br />On GitHub, the HTML representation is unable to render, please try loading this page with nbviewer.org.</b></div><div class=\"sk-container\" hidden><div class=\"sk-item\"><div class=\"sk-estimator sk-toggleable\"><input class=\"sk-toggleable__control sk-hidden--visually\" id=\"sk-estimator-id-16\" type=\"checkbox\" checked><label for=\"sk-estimator-id-16\" class=\"sk-toggleable__label sk-toggleable__label-arrow\">RandomForestClassifier</label><div class=\"sk-toggleable__content\"><pre>RandomForestClassifier(criterion=&#x27;log_loss&#x27;, max_depth=5, n_estimators=500)</pre></div></div></div></div></div>"
      ],
      "text/plain": [
       "RandomForestClassifier(criterion='log_loss', max_depth=5, n_estimators=500)"
      ]
     },
     "execution_count": 72,
     "metadata": {},
     "output_type": "execute_result"
    }
   ],
   "source": [
    "#Modelo RandomForestClassifier de puntaje de lectura crítica\n",
    "random_plc.fit(X_train_plc,y_train_plc)"
   ]
  },
  {
   "cell_type": "code",
   "execution_count": 73,
   "id": "731920c8",
   "metadata": {},
   "outputs": [],
   "source": [
    "#Modelo RandomForestClassifier de puntaje de lectura crítica\n",
    "y_predict_rf_plc = random_plc.predict(X_test_plc)"
   ]
  },
  {
   "cell_type": "code",
   "execution_count": 40,
   "id": "c9768c88",
   "metadata": {},
   "outputs": [
    {
     "data": {
      "text/html": [
       "<style>#sk-container-id-10 {color: black;background-color: white;}#sk-container-id-10 pre{padding: 0;}#sk-container-id-10 div.sk-toggleable {background-color: white;}#sk-container-id-10 label.sk-toggleable__label {cursor: pointer;display: block;width: 100%;margin-bottom: 0;padding: 0.3em;box-sizing: border-box;text-align: center;}#sk-container-id-10 label.sk-toggleable__label-arrow:before {content: \"▸\";float: left;margin-right: 0.25em;color: #696969;}#sk-container-id-10 label.sk-toggleable__label-arrow:hover:before {color: black;}#sk-container-id-10 div.sk-estimator:hover label.sk-toggleable__label-arrow:before {color: black;}#sk-container-id-10 div.sk-toggleable__content {max-height: 0;max-width: 0;overflow: hidden;text-align: left;background-color: #f0f8ff;}#sk-container-id-10 div.sk-toggleable__content pre {margin: 0.2em;color: black;border-radius: 0.25em;background-color: #f0f8ff;}#sk-container-id-10 input.sk-toggleable__control:checked~div.sk-toggleable__content {max-height: 200px;max-width: 100%;overflow: auto;}#sk-container-id-10 input.sk-toggleable__control:checked~label.sk-toggleable__label-arrow:before {content: \"▾\";}#sk-container-id-10 div.sk-estimator input.sk-toggleable__control:checked~label.sk-toggleable__label {background-color: #d4ebff;}#sk-container-id-10 div.sk-label input.sk-toggleable__control:checked~label.sk-toggleable__label {background-color: #d4ebff;}#sk-container-id-10 input.sk-hidden--visually {border: 0;clip: rect(1px 1px 1px 1px);clip: rect(1px, 1px, 1px, 1px);height: 1px;margin: -1px;overflow: hidden;padding: 0;position: absolute;width: 1px;}#sk-container-id-10 div.sk-estimator {font-family: monospace;background-color: #f0f8ff;border: 1px dotted black;border-radius: 0.25em;box-sizing: border-box;margin-bottom: 0.5em;}#sk-container-id-10 div.sk-estimator:hover {background-color: #d4ebff;}#sk-container-id-10 div.sk-parallel-item::after {content: \"\";width: 100%;border-bottom: 1px solid gray;flex-grow: 1;}#sk-container-id-10 div.sk-label:hover label.sk-toggleable__label {background-color: #d4ebff;}#sk-container-id-10 div.sk-serial::before {content: \"\";position: absolute;border-left: 1px solid gray;box-sizing: border-box;top: 0;bottom: 0;left: 50%;z-index: 0;}#sk-container-id-10 div.sk-serial {display: flex;flex-direction: column;align-items: center;background-color: white;padding-right: 0.2em;padding-left: 0.2em;position: relative;}#sk-container-id-10 div.sk-item {position: relative;z-index: 1;}#sk-container-id-10 div.sk-parallel {display: flex;align-items: stretch;justify-content: center;background-color: white;position: relative;}#sk-container-id-10 div.sk-item::before, #sk-container-id-10 div.sk-parallel-item::before {content: \"\";position: absolute;border-left: 1px solid gray;box-sizing: border-box;top: 0;bottom: 0;left: 50%;z-index: -1;}#sk-container-id-10 div.sk-parallel-item {display: flex;flex-direction: column;z-index: 1;position: relative;background-color: white;}#sk-container-id-10 div.sk-parallel-item:first-child::after {align-self: flex-end;width: 50%;}#sk-container-id-10 div.sk-parallel-item:last-child::after {align-self: flex-start;width: 50%;}#sk-container-id-10 div.sk-parallel-item:only-child::after {width: 0;}#sk-container-id-10 div.sk-dashed-wrapped {border: 1px dashed gray;margin: 0 0.4em 0.5em 0.4em;box-sizing: border-box;padding-bottom: 0.4em;background-color: white;}#sk-container-id-10 div.sk-label label {font-family: monospace;font-weight: bold;display: inline-block;line-height: 1.2em;}#sk-container-id-10 div.sk-label-container {text-align: center;}#sk-container-id-10 div.sk-container {/* jupyter's `normalize.less` sets `[hidden] { display: none; }` but bootstrap.min.css set `[hidden] { display: none !important; }` so we also need the `!important` here to be able to override the default hidden behavior on the sphinx rendered scikit-learn.org. See: https://github.com/scikit-learn/scikit-learn/issues/21755 */display: inline-block !important;position: relative;}#sk-container-id-10 div.sk-text-repr-fallback {display: none;}</style><div id=\"sk-container-id-10\" class=\"sk-top-container\"><div class=\"sk-text-repr-fallback\"><pre>GradientBoostingClassifier(max_depth=15, n_estimators=500, random_state=25)</pre><b>In a Jupyter environment, please rerun this cell to show the HTML representation or trust the notebook. <br />On GitHub, the HTML representation is unable to render, please try loading this page with nbviewer.org.</b></div><div class=\"sk-container\" hidden><div class=\"sk-item\"><div class=\"sk-estimator sk-toggleable\"><input class=\"sk-toggleable__control sk-hidden--visually\" id=\"sk-estimator-id-10\" type=\"checkbox\" checked><label for=\"sk-estimator-id-10\" class=\"sk-toggleable__label sk-toggleable__label-arrow\">GradientBoostingClassifier</label><div class=\"sk-toggleable__content\"><pre>GradientBoostingClassifier(max_depth=15, n_estimators=500, random_state=25)</pre></div></div></div></div></div>"
      ],
      "text/plain": [
       "GradientBoostingClassifier(max_depth=15, n_estimators=500, random_state=25)"
      ]
     },
     "execution_count": 40,
     "metadata": {},
     "output_type": "execute_result"
    }
   ],
   "source": [
    "#Modelo GradientBoostingClassifier de lectura crítica\n",
    "gb_model_plc.fit(X_train_plc, y_train_plc)"
   ]
  },
  {
   "cell_type": "code",
   "execution_count": 41,
   "id": "d9a8dcf4",
   "metadata": {},
   "outputs": [],
   "source": [
    "#Modelo GradientBoostingClassifier de lectura crítica\n",
    "y_predict_gb_plc = gb_model_plc.predict(X_test_plc)"
   ]
  },
  {
   "cell_type": "code",
   "execution_count": 45,
   "id": "ffff0a56",
   "metadata": {},
   "outputs": [],
   "source": [
    "#División de columnas de la variable objetivo\n",
    "X_psc = dfsocialesciudadanas.drop(['PUNT_SOCIALES_CIUDADANAS'],axis=1)\n",
    "y_psc = dfsocialesciudadanas['PUNT_SOCIALES_CIUDADANAS']\n",
    "X_train_psc, X_test_psc, y_train_psc, y_test_psc = train_test_split(X_psc, y_psc, test_size = 0.20, random_state=3)"
   ]
  },
  {
   "cell_type": "code",
   "execution_count": 74,
   "id": "da58aae4",
   "metadata": {},
   "outputs": [
    {
     "data": {
      "text/html": [
       "<style>#sk-container-id-17 {color: black;background-color: white;}#sk-container-id-17 pre{padding: 0;}#sk-container-id-17 div.sk-toggleable {background-color: white;}#sk-container-id-17 label.sk-toggleable__label {cursor: pointer;display: block;width: 100%;margin-bottom: 0;padding: 0.3em;box-sizing: border-box;text-align: center;}#sk-container-id-17 label.sk-toggleable__label-arrow:before {content: \"▸\";float: left;margin-right: 0.25em;color: #696969;}#sk-container-id-17 label.sk-toggleable__label-arrow:hover:before {color: black;}#sk-container-id-17 div.sk-estimator:hover label.sk-toggleable__label-arrow:before {color: black;}#sk-container-id-17 div.sk-toggleable__content {max-height: 0;max-width: 0;overflow: hidden;text-align: left;background-color: #f0f8ff;}#sk-container-id-17 div.sk-toggleable__content pre {margin: 0.2em;color: black;border-radius: 0.25em;background-color: #f0f8ff;}#sk-container-id-17 input.sk-toggleable__control:checked~div.sk-toggleable__content {max-height: 200px;max-width: 100%;overflow: auto;}#sk-container-id-17 input.sk-toggleable__control:checked~label.sk-toggleable__label-arrow:before {content: \"▾\";}#sk-container-id-17 div.sk-estimator input.sk-toggleable__control:checked~label.sk-toggleable__label {background-color: #d4ebff;}#sk-container-id-17 div.sk-label input.sk-toggleable__control:checked~label.sk-toggleable__label {background-color: #d4ebff;}#sk-container-id-17 input.sk-hidden--visually {border: 0;clip: rect(1px 1px 1px 1px);clip: rect(1px, 1px, 1px, 1px);height: 1px;margin: -1px;overflow: hidden;padding: 0;position: absolute;width: 1px;}#sk-container-id-17 div.sk-estimator {font-family: monospace;background-color: #f0f8ff;border: 1px dotted black;border-radius: 0.25em;box-sizing: border-box;margin-bottom: 0.5em;}#sk-container-id-17 div.sk-estimator:hover {background-color: #d4ebff;}#sk-container-id-17 div.sk-parallel-item::after {content: \"\";width: 100%;border-bottom: 1px solid gray;flex-grow: 1;}#sk-container-id-17 div.sk-label:hover label.sk-toggleable__label {background-color: #d4ebff;}#sk-container-id-17 div.sk-serial::before {content: \"\";position: absolute;border-left: 1px solid gray;box-sizing: border-box;top: 0;bottom: 0;left: 50%;z-index: 0;}#sk-container-id-17 div.sk-serial {display: flex;flex-direction: column;align-items: center;background-color: white;padding-right: 0.2em;padding-left: 0.2em;position: relative;}#sk-container-id-17 div.sk-item {position: relative;z-index: 1;}#sk-container-id-17 div.sk-parallel {display: flex;align-items: stretch;justify-content: center;background-color: white;position: relative;}#sk-container-id-17 div.sk-item::before, #sk-container-id-17 div.sk-parallel-item::before {content: \"\";position: absolute;border-left: 1px solid gray;box-sizing: border-box;top: 0;bottom: 0;left: 50%;z-index: -1;}#sk-container-id-17 div.sk-parallel-item {display: flex;flex-direction: column;z-index: 1;position: relative;background-color: white;}#sk-container-id-17 div.sk-parallel-item:first-child::after {align-self: flex-end;width: 50%;}#sk-container-id-17 div.sk-parallel-item:last-child::after {align-self: flex-start;width: 50%;}#sk-container-id-17 div.sk-parallel-item:only-child::after {width: 0;}#sk-container-id-17 div.sk-dashed-wrapped {border: 1px dashed gray;margin: 0 0.4em 0.5em 0.4em;box-sizing: border-box;padding-bottom: 0.4em;background-color: white;}#sk-container-id-17 div.sk-label label {font-family: monospace;font-weight: bold;display: inline-block;line-height: 1.2em;}#sk-container-id-17 div.sk-label-container {text-align: center;}#sk-container-id-17 div.sk-container {/* jupyter's `normalize.less` sets `[hidden] { display: none; }` but bootstrap.min.css set `[hidden] { display: none !important; }` so we also need the `!important` here to be able to override the default hidden behavior on the sphinx rendered scikit-learn.org. See: https://github.com/scikit-learn/scikit-learn/issues/21755 */display: inline-block !important;position: relative;}#sk-container-id-17 div.sk-text-repr-fallback {display: none;}</style><div id=\"sk-container-id-17\" class=\"sk-top-container\"><div class=\"sk-text-repr-fallback\"><pre>RandomForestClassifier(criterion=&#x27;log_loss&#x27;, max_depth=5, n_estimators=500)</pre><b>In a Jupyter environment, please rerun this cell to show the HTML representation or trust the notebook. <br />On GitHub, the HTML representation is unable to render, please try loading this page with nbviewer.org.</b></div><div class=\"sk-container\" hidden><div class=\"sk-item\"><div class=\"sk-estimator sk-toggleable\"><input class=\"sk-toggleable__control sk-hidden--visually\" id=\"sk-estimator-id-17\" type=\"checkbox\" checked><label for=\"sk-estimator-id-17\" class=\"sk-toggleable__label sk-toggleable__label-arrow\">RandomForestClassifier</label><div class=\"sk-toggleable__content\"><pre>RandomForestClassifier(criterion=&#x27;log_loss&#x27;, max_depth=5, n_estimators=500)</pre></div></div></div></div></div>"
      ],
      "text/plain": [
       "RandomForestClassifier(criterion='log_loss', max_depth=5, n_estimators=500)"
      ]
     },
     "execution_count": 74,
     "metadata": {},
     "output_type": "execute_result"
    }
   ],
   "source": [
    "#Modelo RandomForestClassifier de puntaje de lectura crítica\n",
    "random_psc.fit(X_train_psc,y_train_psc)"
   ]
  },
  {
   "cell_type": "code",
   "execution_count": 75,
   "id": "946fee0f",
   "metadata": {},
   "outputs": [],
   "source": [
    "#Modelo RandomForestClassifier de puntaje de lectura crítica\n",
    "y_predict_rf_psc = random_psc.predict(X_test_psc)"
   ]
  },
  {
   "cell_type": "code",
   "execution_count": 45,
   "id": "d648769b",
   "metadata": {},
   "outputs": [
    {
     "data": {
      "text/html": [
       "<style>#sk-container-id-12 {color: black;background-color: white;}#sk-container-id-12 pre{padding: 0;}#sk-container-id-12 div.sk-toggleable {background-color: white;}#sk-container-id-12 label.sk-toggleable__label {cursor: pointer;display: block;width: 100%;margin-bottom: 0;padding: 0.3em;box-sizing: border-box;text-align: center;}#sk-container-id-12 label.sk-toggleable__label-arrow:before {content: \"▸\";float: left;margin-right: 0.25em;color: #696969;}#sk-container-id-12 label.sk-toggleable__label-arrow:hover:before {color: black;}#sk-container-id-12 div.sk-estimator:hover label.sk-toggleable__label-arrow:before {color: black;}#sk-container-id-12 div.sk-toggleable__content {max-height: 0;max-width: 0;overflow: hidden;text-align: left;background-color: #f0f8ff;}#sk-container-id-12 div.sk-toggleable__content pre {margin: 0.2em;color: black;border-radius: 0.25em;background-color: #f0f8ff;}#sk-container-id-12 input.sk-toggleable__control:checked~div.sk-toggleable__content {max-height: 200px;max-width: 100%;overflow: auto;}#sk-container-id-12 input.sk-toggleable__control:checked~label.sk-toggleable__label-arrow:before {content: \"▾\";}#sk-container-id-12 div.sk-estimator input.sk-toggleable__control:checked~label.sk-toggleable__label {background-color: #d4ebff;}#sk-container-id-12 div.sk-label input.sk-toggleable__control:checked~label.sk-toggleable__label {background-color: #d4ebff;}#sk-container-id-12 input.sk-hidden--visually {border: 0;clip: rect(1px 1px 1px 1px);clip: rect(1px, 1px, 1px, 1px);height: 1px;margin: -1px;overflow: hidden;padding: 0;position: absolute;width: 1px;}#sk-container-id-12 div.sk-estimator {font-family: monospace;background-color: #f0f8ff;border: 1px dotted black;border-radius: 0.25em;box-sizing: border-box;margin-bottom: 0.5em;}#sk-container-id-12 div.sk-estimator:hover {background-color: #d4ebff;}#sk-container-id-12 div.sk-parallel-item::after {content: \"\";width: 100%;border-bottom: 1px solid gray;flex-grow: 1;}#sk-container-id-12 div.sk-label:hover label.sk-toggleable__label {background-color: #d4ebff;}#sk-container-id-12 div.sk-serial::before {content: \"\";position: absolute;border-left: 1px solid gray;box-sizing: border-box;top: 0;bottom: 0;left: 50%;z-index: 0;}#sk-container-id-12 div.sk-serial {display: flex;flex-direction: column;align-items: center;background-color: white;padding-right: 0.2em;padding-left: 0.2em;position: relative;}#sk-container-id-12 div.sk-item {position: relative;z-index: 1;}#sk-container-id-12 div.sk-parallel {display: flex;align-items: stretch;justify-content: center;background-color: white;position: relative;}#sk-container-id-12 div.sk-item::before, #sk-container-id-12 div.sk-parallel-item::before {content: \"\";position: absolute;border-left: 1px solid gray;box-sizing: border-box;top: 0;bottom: 0;left: 50%;z-index: -1;}#sk-container-id-12 div.sk-parallel-item {display: flex;flex-direction: column;z-index: 1;position: relative;background-color: white;}#sk-container-id-12 div.sk-parallel-item:first-child::after {align-self: flex-end;width: 50%;}#sk-container-id-12 div.sk-parallel-item:last-child::after {align-self: flex-start;width: 50%;}#sk-container-id-12 div.sk-parallel-item:only-child::after {width: 0;}#sk-container-id-12 div.sk-dashed-wrapped {border: 1px dashed gray;margin: 0 0.4em 0.5em 0.4em;box-sizing: border-box;padding-bottom: 0.4em;background-color: white;}#sk-container-id-12 div.sk-label label {font-family: monospace;font-weight: bold;display: inline-block;line-height: 1.2em;}#sk-container-id-12 div.sk-label-container {text-align: center;}#sk-container-id-12 div.sk-container {/* jupyter's `normalize.less` sets `[hidden] { display: none; }` but bootstrap.min.css set `[hidden] { display: none !important; }` so we also need the `!important` here to be able to override the default hidden behavior on the sphinx rendered scikit-learn.org. See: https://github.com/scikit-learn/scikit-learn/issues/21755 */display: inline-block !important;position: relative;}#sk-container-id-12 div.sk-text-repr-fallback {display: none;}</style><div id=\"sk-container-id-12\" class=\"sk-top-container\"><div class=\"sk-text-repr-fallback\"><pre>GradientBoostingClassifier(max_depth=15, n_estimators=500, random_state=30)</pre><b>In a Jupyter environment, please rerun this cell to show the HTML representation or trust the notebook. <br />On GitHub, the HTML representation is unable to render, please try loading this page with nbviewer.org.</b></div><div class=\"sk-container\" hidden><div class=\"sk-item\"><div class=\"sk-estimator sk-toggleable\"><input class=\"sk-toggleable__control sk-hidden--visually\" id=\"sk-estimator-id-12\" type=\"checkbox\" checked><label for=\"sk-estimator-id-12\" class=\"sk-toggleable__label sk-toggleable__label-arrow\">GradientBoostingClassifier</label><div class=\"sk-toggleable__content\"><pre>GradientBoostingClassifier(max_depth=15, n_estimators=500, random_state=30)</pre></div></div></div></div></div>"
      ],
      "text/plain": [
       "GradientBoostingClassifier(max_depth=15, n_estimators=500, random_state=30)"
      ]
     },
     "execution_count": 45,
     "metadata": {},
     "output_type": "execute_result"
    }
   ],
   "source": [
    "#Modelo GradientBoostingClassifier de lectura crítica\n",
    "gb_model_psc.fit(X_train_psc, y_train_psc)"
   ]
  },
  {
   "cell_type": "code",
   "execution_count": 46,
   "id": "fa6fa2b7",
   "metadata": {},
   "outputs": [],
   "source": [
    "#Modelo GradientBoostingClassifier de lectura crítica\n",
    "y_predict_gb_psc = gb_model_psc.predict(X_test_psc)"
   ]
  },
  {
   "cell_type": "markdown",
   "id": "5fe24f42",
   "metadata": {},
   "source": [
    "Verificación y Pruebas del Modelo"
   ]
  },
  {
   "cell_type": "code",
   "execution_count": 48,
   "id": "5243a2f0",
   "metadata": {},
   "outputs": [
    {
     "name": "stdout",
     "output_type": "stream",
     "text": [
      "Puntaje Global random forest:\n",
      "              precision    recall  f1-score   support\n",
      "\n",
      "           1       0.84      0.98      0.90     20394\n",
      "           2       0.69      0.23      0.34      4861\n",
      "\n",
      "    accuracy                           0.83     25255\n",
      "   macro avg       0.77      0.60      0.62     25255\n",
      "weighted avg       0.81      0.83      0.80     25255\n",
      "\n"
     ]
    }
   ],
   "source": [
    "print(\"Puntaje Global random forest:\")\n",
    "print(classification_report(y_test_pg, y_predict_rf_pg, zero_division=0))"
   ]
  },
  {
   "cell_type": "code",
   "execution_count": 106,
   "id": "468db4b0",
   "metadata": {},
   "outputs": [
    {
     "name": "stdout",
     "output_type": "stream",
     "text": [
      "Puntaje Global gradient boosting:\n",
      "              precision    recall  f1-score   support\n",
      "\n",
      "           1       0.85      0.96      0.90     20394\n",
      "           2       0.60      0.27      0.37      4861\n",
      "\n",
      "    accuracy                           0.82     25255\n",
      "   macro avg       0.72      0.61      0.63     25255\n",
      "weighted avg       0.80      0.82      0.80     25255\n",
      "\n"
     ]
    }
   ],
   "source": [
    "print(\"Puntaje Global gradient boosting:\")\n",
    "print(classification_report(y_test_pg, y_predict_gb_pg, zero_division=0))"
   ]
  },
  {
   "cell_type": "code",
   "execution_count": 49,
   "id": "82bf4765",
   "metadata": {},
   "outputs": [
    {
     "data": {
      "text/plain": [
       "0.8317956840229658"
      ]
     },
     "execution_count": 49,
     "metadata": {},
     "output_type": "execute_result"
    }
   ],
   "source": [
    "random_pg.score(X_test_pg,y_test_pg)"
   ]
  },
  {
   "cell_type": "code",
   "execution_count": 53,
   "id": "3138dc5a",
   "metadata": {},
   "outputs": [
    {
     "data": {
      "text/plain": [
       "0.824509998020194"
      ]
     },
     "execution_count": 53,
     "metadata": {},
     "output_type": "execute_result"
    }
   ],
   "source": [
    "gb_model_pg.score(X_test_pg,y_test_pg)"
   ]
  },
  {
   "cell_type": "code",
   "execution_count": 54,
   "id": "61eda37c",
   "metadata": {},
   "outputs": [
    {
     "name": "stdout",
     "output_type": "stream",
     "text": [
      "Puntaje Matemáticas random forest:\n",
      "              precision    recall  f1-score   support\n",
      "\n",
      "           1       0.71      0.90      0.80     16045\n",
      "           2       0.68      0.36      0.48      9210\n",
      "\n",
      "    accuracy                           0.71     25255\n",
      "   macro avg       0.70      0.63      0.64     25255\n",
      "weighted avg       0.70      0.71      0.68     25255\n",
      "\n"
     ]
    }
   ],
   "source": [
    "print(\"Puntaje Matemáticas random forest:\")\n",
    "print(classification_report(y_test_pm, y_predict_rf_pm, zero_division=0))"
   ]
  },
  {
   "cell_type": "code",
   "execution_count": 53,
   "id": "126e8bc9",
   "metadata": {},
   "outputs": [
    {
     "name": "stdout",
     "output_type": "stream",
     "text": [
      "Puntaje Matemáticas gradient boosting:\n",
      "              precision    recall  f1-score   support\n",
      "\n",
      "           1       0.72      0.84      0.77     16033\n",
      "           2       0.61      0.43      0.50      9222\n",
      "\n",
      "    accuracy                           0.69     25255\n",
      "   macro avg       0.66      0.63      0.64     25255\n",
      "weighted avg       0.68      0.69      0.68     25255\n",
      "\n"
     ]
    }
   ],
   "source": [
    "print(\"Puntaje Matemáticas gradient boosting:\")\n",
    "print(classification_report(y_test_pm, y_predict_gb_pm, zero_division=0))"
   ]
  },
  {
   "cell_type": "code",
   "execution_count": 55,
   "id": "eb712eba",
   "metadata": {},
   "outputs": [
    {
     "data": {
      "text/plain": [
       "0.7067115422688577"
      ]
     },
     "execution_count": 55,
     "metadata": {},
     "output_type": "execute_result"
    }
   ],
   "source": [
    "random_pm.score(X_test_pm,y_test_pm)"
   ]
  },
  {
   "cell_type": "code",
   "execution_count": 55,
   "id": "797fb8ad",
   "metadata": {},
   "outputs": [
    {
     "data": {
      "text/plain": [
       "0.6900415759255593"
      ]
     },
     "execution_count": 55,
     "metadata": {},
     "output_type": "execute_result"
    }
   ],
   "source": [
    "gb_model_pm.score(X_test_pm,y_test_pm)"
   ]
  },
  {
   "cell_type": "code",
   "execution_count": 56,
   "id": "da66ea2d",
   "metadata": {},
   "outputs": [
    {
     "name": "stdout",
     "output_type": "stream",
     "text": [
      "Puntaje Inglés random forest:\n",
      "              precision    recall  f1-score   support\n",
      "\n",
      "         1.0       0.75      0.96      0.84     17216\n",
      "         2.0       0.78      0.31      0.44      8039\n",
      "\n",
      "    accuracy                           0.75     25255\n",
      "   macro avg       0.76      0.63      0.64     25255\n",
      "weighted avg       0.76      0.75      0.71     25255\n",
      "\n"
     ]
    }
   ],
   "source": [
    "print(\"Puntaje Inglés random forest:\")\n",
    "print(classification_report(y_test_pi, y_predict_rf_pi, zero_division=0))"
   ]
  },
  {
   "cell_type": "code",
   "execution_count": 57,
   "id": "04faf6c2",
   "metadata": {},
   "outputs": [
    {
     "name": "stdout",
     "output_type": "stream",
     "text": [
      "Puntaje Inglés gradient boosting:\n",
      "              precision    recall  f1-score   support\n",
      "\n",
      "         1.0       0.77      0.89      0.83     17216\n",
      "         2.0       0.65      0.44      0.53      8039\n",
      "\n",
      "    accuracy                           0.75     25255\n",
      "   macro avg       0.71      0.67      0.68     25255\n",
      "weighted avg       0.74      0.75      0.73     25255\n",
      "\n"
     ]
    }
   ],
   "source": [
    "print(\"Puntaje Inglés gradient boosting:\")\n",
    "print(classification_report(y_test_pi, y_predict_gb_pi, zero_division=0))"
   ]
  },
  {
   "cell_type": "code",
   "execution_count": 57,
   "id": "ea3f77b9",
   "metadata": {},
   "outputs": [
    {
     "data": {
      "text/plain": [
       "0.7518907147099584"
      ]
     },
     "execution_count": 57,
     "metadata": {},
     "output_type": "execute_result"
    }
   ],
   "source": [
    "random_pi.score(X_test_pi,y_test_pi)"
   ]
  },
  {
   "cell_type": "code",
   "execution_count": 59,
   "id": "24b747d8",
   "metadata": {},
   "outputs": [
    {
     "data": {
      "text/plain": [
       "0.748168679469412"
      ]
     },
     "execution_count": 59,
     "metadata": {},
     "output_type": "execute_result"
    }
   ],
   "source": [
    "gb_model_pi.score(X_test_pi,y_test_pi)"
   ]
  },
  {
   "cell_type": "code",
   "execution_count": 58,
   "id": "7608a2d6",
   "metadata": {},
   "outputs": [
    {
     "name": "stdout",
     "output_type": "stream",
     "text": [
      "Puntaje lectura crítica random forest:\n",
      "              precision    recall  f1-score   support\n",
      "\n",
      "           1       0.65      0.83      0.73     13973\n",
      "           2       0.68      0.46      0.55     11282\n",
      "\n",
      "    accuracy                           0.66     25255\n",
      "   macro avg       0.67      0.64      0.64     25255\n",
      "weighted avg       0.67      0.66      0.65     25255\n",
      "\n"
     ]
    }
   ],
   "source": [
    "print(\"Puntaje lectura crítica random forest:\")\n",
    "print(classification_report(y_test_plc, y_predict_rf_plc, zero_division=0))"
   ]
  },
  {
   "cell_type": "code",
   "execution_count": 112,
   "id": "48122d5f",
   "metadata": {},
   "outputs": [
    {
     "name": "stdout",
     "output_type": "stream",
     "text": [
      "Puntaje lectura crítica gradient boosting:\n",
      "              precision    recall  f1-score   support\n",
      "\n",
      "           1       0.68      0.73      0.70     13973\n",
      "           2       0.63      0.57      0.60     11282\n",
      "\n",
      "    accuracy                           0.66     25255\n",
      "   macro avg       0.65      0.65      0.65     25255\n",
      "weighted avg       0.66      0.66      0.66     25255\n",
      "\n"
     ]
    }
   ],
   "source": [
    "print(\"Puntaje lectura crítica gradient boosting:\")\n",
    "print(classification_report(y_test_plc, y_predict_gb_plc, zero_division=0))"
   ]
  },
  {
   "cell_type": "code",
   "execution_count": 59,
   "id": "e0690ee0",
   "metadata": {},
   "outputs": [
    {
     "data": {
      "text/plain": [
       "0.6628786378934864"
      ]
     },
     "execution_count": 59,
     "metadata": {},
     "output_type": "execute_result"
    }
   ],
   "source": [
    "random_plc.score(X_test_plc,y_test_plc)"
   ]
  },
  {
   "cell_type": "code",
   "execution_count": 63,
   "id": "fed4f164",
   "metadata": {},
   "outputs": [
    {
     "data": {
      "text/plain": [
       "0.6593941793704217"
      ]
     },
     "execution_count": 63,
     "metadata": {},
     "output_type": "execute_result"
    }
   ],
   "source": [
    "gb_model_plc.score(X_test_plc,y_test_plc)"
   ]
  },
  {
   "cell_type": "code",
   "execution_count": 17,
   "id": "3d111ec8",
   "metadata": {},
   "outputs": [
    {
     "name": "stdout",
     "output_type": "stream",
     "text": [
      "Puntaje ciencias naturtales random forest:\n",
      "              precision    recall  f1-score   support\n",
      "\n",
      "           1       0.76      0.94      0.84     17810\n",
      "           2       0.70      0.30      0.42      7445\n",
      "\n",
      "    accuracy                           0.76     25255\n",
      "   macro avg       0.73      0.62      0.63     25255\n",
      "weighted avg       0.74      0.76      0.72     25255\n",
      "\n"
     ]
    }
   ],
   "source": [
    "print(\"Puntaje ciencias naturtales random forest:\")\n",
    "print(classification_report(y_test_pcn, y_predict_rf_pcn, zero_division=0))"
   ]
  },
  {
   "cell_type": "code",
   "execution_count": 18,
   "id": "009e187f",
   "metadata": {},
   "outputs": [
    {
     "name": "stdout",
     "output_type": "stream",
     "text": [
      "Puntaje ciencias naturtales gradient boosting:\n",
      "              precision    recall  f1-score   support\n",
      "\n",
      "           1       0.77      0.90      0.83     17810\n",
      "           2       0.61      0.36      0.45      7445\n",
      "\n",
      "    accuracy                           0.74     25255\n",
      "   macro avg       0.69      0.63      0.64     25255\n",
      "weighted avg       0.72      0.74      0.72     25255\n",
      "\n"
     ]
    }
   ],
   "source": [
    "print(\"Puntaje ciencias naturtales gradient boosting:\")\n",
    "print(classification_report(y_test_pcn, y_predict_gb_pcn, zero_division=0))"
   ]
  },
  {
   "cell_type": "code",
   "execution_count": 19,
   "id": "5b7abadb",
   "metadata": {},
   "outputs": [
    {
     "data": {
      "text/plain": [
       "0.7554147693526034"
      ]
     },
     "execution_count": 19,
     "metadata": {},
     "output_type": "execute_result"
    }
   ],
   "source": [
    "random_pcn.score(X_test_pcn,y_test_pcn)"
   ]
  },
  {
   "cell_type": "code",
   "execution_count": 20,
   "id": "b55a2355",
   "metadata": {},
   "outputs": [
    {
     "data": {
      "text/plain": [
       "0.7435359334785191"
      ]
     },
     "execution_count": 20,
     "metadata": {},
     "output_type": "execute_result"
    }
   ],
   "source": [
    "gb_model_pcn.score(X_test_pcn,y_test_pcn)"
   ]
  },
  {
   "cell_type": "code",
   "execution_count": 60,
   "id": "82a9334e",
   "metadata": {},
   "outputs": [
    {
     "name": "stdout",
     "output_type": "stream",
     "text": [
      "Puntaje Sociales random forest:\n",
      "              precision    recall  f1-score   support\n",
      "\n",
      "           1       0.73      0.97      0.83     17544\n",
      "           2       0.72      0.19      0.30      7711\n",
      "\n",
      "    accuracy                           0.73     25255\n",
      "   macro avg       0.73      0.58      0.56     25255\n",
      "weighted avg       0.73      0.73      0.67     25255\n",
      "\n"
     ]
    }
   ],
   "source": [
    "print(\"Puntaje Sociales random forest:\")\n",
    "print(classification_report(y_test_psc, y_predict_rf_psc, zero_division=0))"
   ]
  },
  {
   "cell_type": "code",
   "execution_count": 65,
   "id": "876bf694",
   "metadata": {},
   "outputs": [
    {
     "name": "stdout",
     "output_type": "stream",
     "text": [
      "Puntaje Sociales gradient boosting:\n",
      "              precision    recall  f1-score   support\n",
      "\n",
      "           1       0.76      0.90      0.82     17544\n",
      "           2       0.60      0.35      0.44      7711\n",
      "\n",
      "    accuracy                           0.73     25255\n",
      "   macro avg       0.68      0.62      0.63     25255\n",
      "weighted avg       0.71      0.73      0.71     25255\n",
      "\n"
     ]
    }
   ],
   "source": [
    "print(\"Puntaje Sociales gradient boosting:\")\n",
    "print(classification_report(y_test_psc, y_predict_gb_psc, zero_division=0))"
   ]
  },
  {
   "cell_type": "code",
   "execution_count": 61,
   "id": "28cd9d9d",
   "metadata": {},
   "outputs": [
    {
     "data": {
      "text/plain": [
       "0.7298356761037418"
      ]
     },
     "execution_count": 61,
     "metadata": {},
     "output_type": "execute_result"
    }
   ],
   "source": [
    "random_psc.score(X_test_psc,y_test_psc)"
   ]
  },
  {
   "cell_type": "code",
   "execution_count": 67,
   "id": "19b9550d",
   "metadata": {},
   "outputs": [
    {
     "data": {
      "text/plain": [
       "0.7299544644624827"
      ]
     },
     "execution_count": 67,
     "metadata": {},
     "output_type": "execute_result"
    }
   ],
   "source": [
    "gb_model_psc.score(X_test_psc,y_test_psc)"
   ]
  },
  {
   "cell_type": "markdown",
   "id": "eda00583",
   "metadata": {},
   "source": [
    "## Resultados de los modelos\n",
    "Luego de entrenar los modelos, se realizó un reporte del rendimiento de cada modelo, en este caso los modelos entrenados con el algoritmo de random forest classifier demostraron tener un mejor rendimiento en cuanto a precisión de las predicciones.\n",
    "- Puntaje global: Random forest classifier precisión del 83%, gradient boosting classifier precisión del 82%\n",
    "- Puntaje de matemáticas: Random forest classifier precisión del 71%, gradient boosting classifier precisión del 69%\n",
    "- Puntaje de inglés: Random forest classifier precisión del 75%, gradient boosting classifier precisión del 74%\n",
    "- Puntaje de lectura crítica: Random forest classifier precisión del 66%, gradient boosting classifier precisión del 66%\n",
    "- Puntaje de ciencias naturales: Random forest classifier precisión del 75%, gradient boosting classifier precisión del 74%\n",
    "- Puntaje sociales y ciudadanas: Random forest classifier precisión del 73%, gradient boosting classifier precisión del 73%\n",
    "\n",
    "Es por ello que los modelos que se exportarán y serán utilizados en el producto de datos son aquellos entrenados con el algoritmo Random forest classifier."
   ]
  },
  {
   "cell_type": "markdown",
   "id": "d18104fd",
   "metadata": {},
   "source": [
    "# Guardar los modelos entrenados para utilizarlos en el producto de datos"
   ]
  },
  {
   "cell_type": "code",
   "execution_count": 15,
   "id": "3f6f8353",
   "metadata": {},
   "outputs": [],
   "source": [
    "import joblib"
   ]
  },
  {
   "cell_type": "code",
   "execution_count": 76,
   "id": "7ddc5f0f",
   "metadata": {},
   "outputs": [
    {
     "data": {
      "text/plain": [
       "['C:\\\\Users\\\\danie\\\\OneDrive\\\\Escritorio\\\\Proyecto ciencia de datos\\\\src/../data/final/puntaje_sociales_ciudadanas_model.pkl']"
      ]
     },
     "execution_count": 76,
     "metadata": {},
     "output_type": "execute_result"
    }
   ],
   "source": [
    "#Guardar los modelos en pickle files\n",
    "pg_model_pkl_file = final_dir+\"puntaje_global_model.pkl\"  \n",
    "pm_model_pkl_file = final_dir+\"puntaje_matematicas_model.pkl\"\n",
    "pi_model_pkl_file = final_dir+\"puntaje_ingles_model.pkl\"\n",
    "pcn_model_pkl_file = final_dir+\"puntaje_naturales_model.pkl\"\n",
    "plc_model_pkl_file = final_dir+\"puntaje_l_critica_model.pkl\"\n",
    "psc_model_pkl_file = final_dir+\"puntaje_sociales_ciudadanas_model.pkl\"\n",
    "joblib.dump(value=random_pg, filename=pg_model_pkl_file)\n",
    "joblib.dump(value=random_pm, filename=pm_model_pkl_file)\n",
    "joblib.dump(value=random_pi, filename=pi_model_pkl_file)\n",
    "joblib.dump(value=random_pcn, filename=pcn_model_pkl_file)\n",
    "joblib.dump(value=random_plc, filename=plc_model_pkl_file)\n",
    "joblib.dump(value=random_psc, filename=psc_model_pkl_file)"
   ]
  }
 ],
 "metadata": {
  "kernelspec": {
   "display_name": "Python 3 (ipykernel)",
   "language": "python",
   "name": "python3"
  },
  "language_info": {
   "codemirror_mode": {
    "name": "ipython",
    "version": 3
   },
   "file_extension": ".py",
   "mimetype": "text/x-python",
   "name": "python",
   "nbconvert_exporter": "python",
   "pygments_lexer": "ipython3",
   "version": "3.10.9"
  }
 },
 "nbformat": 4,
 "nbformat_minor": 5
}
